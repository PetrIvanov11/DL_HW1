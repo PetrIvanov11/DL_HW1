{
 "cells": [
  {
   "cell_type": "code",
   "execution_count": 1,
   "id": "e6aaf5ff-16da-4150-afeb-2ffc62860e65",
   "metadata": {},
   "outputs": [],
   "source": [
    "import os\n",
    "import re\n",
    "import numpy as np\n",
    "import pandas as pd\n",
    "import random\n",
    "import torch\n",
    "import torch.nn as nn\n",
    "import torch.optim as optim\n",
    "from torch.utils.data import Dataset, DataLoader\n",
    "from sklearn.feature_extraction.text import TfidfVectorizer\n",
    "from sklearn.model_selection import train_test_split\n",
    "from sklearn.metrics import classification_report\n",
    "from sklearn.metrics import classification_report, precision_score, recall_score, f1_score\n",
    "import nltk\n",
    "from nltk.corpus import stopwords\n",
    "from nltk.tokenize import word_tokenize\n",
    "import pymorphy2\n",
    "from snowballstemmer import RussianStemmer\n",
    "from tqdm import tqdm\n",
    "import matplotlib.pyplot as plt\n",
    "import torch.nn.functional as F\n",
    "from torch.optim.lr_scheduler import ReduceLROnPlateau\n",
    "tqdm.pandas()\n",
    "from gensim.models import Word2Vec\n",
    "from gensim.utils import simple_preprocess\n",
    "from tensorflow.keras.preprocessing.text import Tokenizer\n",
    "from tensorflow.keras.preprocessing.sequence import pad_sequences\n",
    "from transformers import BertTokenizer, BertModel, get_linear_schedule_with_warmup\n",
    "from torch.optim import AdamW"
   ]
  },
  {
   "cell_type": "markdown",
   "id": "d00f236c-ca61-45d3-8d85-764430712662",
   "metadata": {},
   "source": [
    "## ПУНКТ 1"
   ]
  },
  {
   "cell_type": "code",
   "execution_count": 3,
   "id": "7a106943-c008-4cc4-896e-a08df82b886e",
   "metadata": {},
   "outputs": [
    {
     "name": "stdout",
     "output_type": "stream",
     "text": [
      "   id                                               text  \\\n",
      "0   0  15 января\\nДетская развлекательная программа\\n...   \n",
      "1   1  13 и 14 августа\\nВыходные в Меге\\nhttps://t.me...   \n",
      "2   2  Йокнапатофа\\nПостановка Театр им. Маяковского\\...   \n",
      "3   3  Впервые в Уфе танцевальная терапия в группе с ...   \n",
      "4   4  🎹\\nGRAND PIANO COMPETITION\\n🎹\\nДрузья, сегодня...   \n",
      "\n",
      "                                              labels  \n",
      "0  [1, 0, 0, 0, 1, 0, 0, 0, 1, 0, 0, 0, 1, 1, 1, ...  \n",
      "1  [0, 0, 0, 1, 0, 0, 0, 0, 1, 0, 0, 0, 1, 1, 0, ...  \n",
      "2  [0, 0, 0, 0, 1, 0, 0, 0, 0, 0, 0, 0, 1, 1, 0, ...  \n",
      "3  [1, 1, 0, 0, 1, 0, 0, 1, 1, 1, 1, 1, 1, 1, 1, ...  \n",
      "4  [1, 1, 0, 0, 0, 0, 0, 1, 1, 0, 0, 1, 1, 1, 1, ...  \n",
      "<class 'pandas.core.frame.DataFrame'>\n",
      "RangeIndex: 29568 entries, 0 to 29567\n",
      "Data columns (total 3 columns):\n",
      " #   Column  Non-Null Count  Dtype \n",
      "---  ------  --------------  ----- \n",
      " 0   id      29568 non-null  int64 \n",
      " 1   text    29568 non-null  object\n",
      " 2   labels  29568 non-null  object\n",
      "dtypes: int64(1), object(2)\n",
      "memory usage: 693.1+ KB\n",
      "None\n"
     ]
    }
   ],
   "source": [
    "df = pd.read_csv(\"train.csv\")\n",
    "df[\"labels\"] = df[\"labels\"].apply(lambda x: np.array(list(map(int, x.strip().split())), dtype=np.int64))\n",
    "print(df.head())\n",
    "print(df.info())"
   ]
  },
  {
   "cell_type": "code",
   "execution_count": 4,
   "id": "1f9be8f2-d1c6-4992-b239-faf0e1fccda7",
   "metadata": {},
   "outputs": [
    {
     "data": {
      "image/png": "[encoded data removed]",
      "text/plain": [
       "<Figure size 1200x400 with 1 Axes>"
      ]
     },
     "metadata": {},
     "output_type": "display_data"
    }
   ],
   "source": [
    "label_matrix = np.stack(df[\"labels\"].values) \n",
    "class_counts = label_matrix.sum(axis=0)\n",
    "plt.figure(figsize=(12, 4))\n",
    "plt.bar(range(len(class_counts)), class_counts)\n",
    "plt.xlabel(\"Класс\")\n",
    "plt.ylabel(\"Количество\")\n",
    "plt.title(\"Баланс классов\")\n",
    "plt.xticks(range(20))\n",
    "plt.grid(True, axis='y', linestyle='--', alpha=0.6)\n",
    "plt.show()"
   ]
  },
  {
   "cell_type": "code",
   "execution_count": 5,
   "id": "542db649-bc29-4221-b517-49d442fe6a22",
   "metadata": {},
   "outputs": [
    {
     "name": "stdout",
     "output_type": "stream",
     "text": [
      "\n",
      "Класс 9:\n",
      "Пример: id                                                    17485\n",
      "text      Похождения бравого солдата Швейка\\n⏰\\n7 феврал...\n",
      "labels    [1, 1, 0, 0, 1, 0, 0, 1, 1, 1, 1, 1, 1, 1, 1, ...\n",
      "Name: 17485, dtype: object\n",
      "\n",
      "Пример: id                                                    23621\n",
      "text      Органный уикенд со скидкой 50% по промокоду ТЕ...\n",
      "labels    [0, 1, 0, 0, 1, 0, 0, 1, 0, 1, 0, 0, 1, 1, 1, ...\n",
      "Name: 23621, dtype: object\n",
      "\n",
      "Пример: id                                                     4091\n",
      "text      ПРЕЗЕНТАЦИЯ ФОТОПРОЕКТА НАТАЛЬИ ИВАНОВОЙ «ЖИВА...\n",
      "labels    [0, 1, 0, 0, 0, 1, 0, 1, 1, 1, 1, 1, 0, 0, 1, ...\n",
      "Name: 4091, dtype: object\n",
      "\n",
      "Пример: id                                                     7924\n",
      "text      Бесплатная пешеходная экскурсия \"Новые воротни...\n",
      "labels    [1, 1, 0, 0, 1, 0, 0, 0, 0, 1, 0, 0, 1, 1, 1, ...\n",
      "Name: 7924, dtype: object\n",
      "\n",
      "Пример: id                                                     1690\n",
      "text      Сергей Безруков\\nв роли Сергея Есенина, пригла...\n",
      "labels    [0, 1, 0, 0, 0, 0, 0, 1, 1, 1, 1, 1, 0, 1, 1, ...\n",
      "Name: 1690, dtype: object\n",
      "\n",
      "\n",
      "Класс 6:\n",
      "Пример: id                                                    15320\n",
      "text      Выставка «Мастер»\\n🕒\\nпо 9 июля  2023\\n📌\\nБесп...\n",
      "labels    [0, 1, 0, 0, 0, 0, 1, 1, 0, 0, 0, 0, 0, 1, 1, ...\n",
      "Name: 15320, dtype: object\n",
      "\n",
      "Пример: id                                                    25740\n",
      "text      Знаменитый театр «У Моста» - снова в Москве со...\n",
      "labels    [0, 1, 0, 0, 1, 0, 1, 1, 1, 1, 1, 1, 1, 0, 1, ...\n",
      "Name: 25740, dtype: object\n",
      "\n",
      "Пример: id                                                     9355\n",
      "text      13 апреля\\n«День дизайнера» в Уфе\\nс 12-00 до ...\n",
      "labels    [1, 1, 0, 0, 1, 0, 1, 0, 1, 0, 0, 1, 1, 1, 1, ...\n",
      "Name: 9355, dtype: object\n",
      "\n",
      "Пример: id                                                    13587\n",
      "text      27 декабря 2022 года в 21.00\\nСпектакль Театро...\n",
      "labels    [0, 1, 0, 0, 1, 0, 1, 1, 1, 1, 0, 1, 1, 1, 1, ...\n",
      "Name: 13587, dtype: object\n",
      "\n",
      "Пример: id                                                    18764\n",
      "text      Спектакль «Бесконечное начало» в Театре имени ...\n",
      "labels    [0, 1, 0, 0, 1, 0, 1, 1, 1, 1, 1, 1, 1, 0, 1, ...\n",
      "Name: 18764, dtype: object\n",
      "\n",
      "\n",
      "Класс 13:\n",
      "Пример: id                                                    24868\n",
      "text      Шоу-сказка \"Зайцы\" (0+)\\n🏛\\nКЗ «Эльдар»\\n📍\\nЛе...\n",
      "labels    [1, 1, 0, 0, 1, 0, 0, 1, 1, 1, 1, 0, 1, 1, 1, ...\n",
      "Name: 24868, dtype: object\n",
      "\n",
      "Пример: id                                                    18562\n",
      "text      ❄\\nЛюбимое новогоднее шоу страны\\n\"Зайцы\"\\n🐰\\n...\n",
      "labels    [0, 1, 0, 0, 1, 0, 0, 1, 1, 1, 1, 1, 1, 1, 1, ...\n",
      "Name: 18562, dtype: object\n",
      "\n",
      "Пример: id                                                      116\n",
      "text      Мировые рок хиты с симфоническим оркестром\\n🏛\\...\n",
      "labels    [1, 1, 0, 1, 0, 0, 0, 1, 1, 1, 0, 0, 1, 1, 1, ...\n",
      "Name: 116, dtype: object\n",
      "\n",
      "Пример: id                                                    11153\n",
      "text      Красота в Усть-Донецке\\n😍\\n🔴\\nПодписывайся на\\...\n",
      "labels    [1, 0, 1, 0, 0, 0, 0, 0, 0, 0, 0, 0, 0, 1, 0, ...\n",
      "Name: 11153, dtype: object\n",
      "\n",
      "Пример: id                                                     1819\n",
      "text      Зажигательное вокальное шоу от Rain Drops\\n🏛\\n...\n",
      "labels    [0, 1, 0, 0, 1, 0, 0, 1, 1, 1, 0, 1, 0, 1, 1, ...\n",
      "Name: 1819, dtype: object\n",
      "\n",
      "\n",
      "Класс 1:\n",
      "Пример: id                                                    16814\n",
      "text      \"Слишком женатый таксист\"\\n🏛\\nДК им. Зуева\\n🗓️...\n",
      "labels    [1, 1, 0, 0, 1, 0, 0, 1, 1, 1, 1, 1, 1, 1, 1, ...\n",
      "Name: 16814, dtype: object\n",
      "\n",
      "Пример: id                                                    12217\n",
      "text      ДЕВИЧНИК ПО НАПИСАНИЮ КАРТИНЫ-АФФИРМАЦИИ\\n28 н...\n",
      "labels    [1, 1, 0, 0, 1, 0, 0, 1, 1, 0, 0, 1, 1, 1, 0, ...\n",
      "Name: 12217, dtype: object\n",
      "\n",
      "Пример: id                                                    24744\n",
      "text      ТЕАТР \"ШКОЛА ДРАМАТИЧЕСКОГО ИСКУССТВА\" ДАРИТ П...\n",
      "labels    [1, 1, 0, 0, 1, 0, 0, 1, 1, 1, 1, 1, 1, 0, 0, ...\n",
      "Name: 24744, dtype: object\n",
      "\n",
      "Пример: id                                                    15048\n",
      "text      29,30,31 октября\\nЭкскурсия «Юные геологи» для...\n",
      "labels    [1, 1, 0, 0, 1, 0, 0, 1, 1, 1, 0, 1, 1, 1, 1, ...\n",
      "Name: 15048, dtype: object\n",
      "\n",
      "Пример: id                                                    10205\n",
      "text      РАСПИСАНИЕ ЛЕТНЕГО КИНОТЕАТРА \"МАШУК\" НА НЕДЕЛ...\n",
      "labels    [0, 1, 0, 0, 1, 0, 0, 1, 1, 0, 0, 1, 1, 1, 0, ...\n",
      "Name: 10205, dtype: object\n",
      "\n",
      "\n",
      "Класс 8:\n",
      "Пример: id                                                    28166\n",
      "text      💥\\nВ честь закрытия 266-го сезона Александринк...\n",
      "labels    [1, 1, 0, 0, 1, 0, 0, 1, 1, 1, 0, 0, 1, 1, 1, ...\n",
      "Name: 28166, dtype: object\n",
      "\n",
      "Пример: id                                                    18804\n",
      "text      Комедия \"Мужчина все руки\"\\n🏛\\nТеатриум на Сер...\n",
      "labels    [0, 1, 0, 0, 1, 0, 0, 1, 1, 1, 1, 1, 1, 1, 1, ...\n",
      "Name: 18804, dtype: object\n",
      "\n",
      "Пример: id                                                     7598\n",
      "text      ЛЕКЦИЯ «У ИСТОКОВ КАВКАЗСКОЙ КУЛЬТУРЫ»(12+)\\n9...\n",
      "labels    [1, 1, 0, 0, 1, 0, 0, 1, 1, 1, 1, 1, 1, 0, 0, ...\n",
      "Name: 7598, dtype: object\n",
      "\n",
      "Пример: id                                                    17107\n",
      "text      3, 4, 5 ноября\\nНочь искусств в Уфе\\n🌌\\nМузей ...\n",
      "labels    [1, 1, 0, 1, 1, 0, 0, 1, 1, 1, 0, 0, 1, 1, 0, ...\n",
      "Name: 17107, dtype: object\n",
      "\n",
      "Пример: id                                                    12649\n",
      "text      Симфонический концерт «Времена года. Лучшее. В...\n",
      "labels    [0, 1, 0, 0, 1, 0, 0, 1, 1, 1, 0, 0, 1, 1, 1, ...\n",
      "Name: 12649, dtype: object\n",
      "\n"
     ]
    }
   ],
   "source": [
    "selected_classes = random.sample(range(label_matrix.shape[1]), 5)\n",
    "\n",
    "for class_idx in selected_classes:\n",
    "    print(f\"\\nКласс {class_idx}:\")\n",
    "    class_examples = np.where(label_matrix[:, class_idx] == 1)[0]\n",
    "    selected_examples = np.random.choice(class_examples, size=5, replace=False)\n",
    "    \n",
    "    for example_idx in selected_examples:\n",
    "        print(f\"Пример: {df.loc[example_idx]}\\n\")"
   ]
  },
  {
   "cell_type": "markdown",
   "id": "73270d3c-b2a6-4adc-8160-a8bbc01c2e96",
   "metadata": {},
   "source": [
    "Классы сильно не сбалансированы. Например, классы 5, 13, 2, 9 и 18 имеют разное количество примеров, при этом некоторые классы (например, класс 5) представлены значительно больше, чем другие (например, класс 18). Это может указывать на то, что модель, обученная на таких данных, будет хуже предсказывать редкие классы из-за их недостаточной представленности. Посмотрев на несколько примеров, можно увидеть, что большая часть текста это кириллица, однако также могут встречаться другие символы, в том числе смайлики."
   ]
  },
  {
   "cell_type": "markdown",
   "id": "9f380d97-7b36-4843-96ca-fb2dae4a67ae",
   "metadata": {},
   "source": [
    "## tf-idf + любая нейронная сеть"
   ]
  },
  {
   "cell_type": "code",
   "execution_count": 8,
   "id": "ed8d4d84-1228-4a5d-80fc-060567ff2f64",
   "metadata": {},
   "outputs": [],
   "source": [
    "train_df, val_df = train_test_split(df, test_size=0.2, random_state=42)"
   ]
  },
  {
   "cell_type": "code",
   "execution_count": 9,
   "id": "2d363a3d-c3c7-4a5d-8e18-71b4a2ec6f15",
   "metadata": {},
   "outputs": [
    {
     "name": "stderr",
     "output_type": "stream",
     "text": [
      "100%|██████████| 23654/23654 [00:06<00:00, 3392.96it/s]\n",
      "100%|██████████| 5914/5914 [00:01<00:00, 3490.51it/s]\n"
     ]
    }
   ],
   "source": [
    "stop_words = set(stopwords.words('russian'))\n",
    "\n",
    "def preprocess_text(text):\n",
    "    text = text.lower()\n",
    "    text = re.sub(r'[^\\w\\s]', ' ', text)\n",
    "    text = re.sub(r'\\s+', ' ', text).strip()\n",
    "    tokens = word_tokenize(text, language='russian')\n",
    "    tokens = [token for token in tokens if token not in stop_words and len(token) > 2]\n",
    "    return ' '.join(tokens)\n",
    "\n",
    "train_df['processed_text'] = train_df['text'].progress_apply(preprocess_text)\n",
    "val_df['processed_text'] = val_df['text'].progress_apply(preprocess_text)"
   ]
  },
  {
   "cell_type": "code",
   "execution_count": 10,
   "id": "03b67c37-0fa2-42b8-af5f-3e78539b9e07",
   "metadata": {},
   "outputs": [
    {
     "name": "stdout",
     "output_type": "stream",
     "text": [
      "Using device: cuda\n"
     ]
    }
   ],
   "source": [
    "device = torch.device('cuda' if torch.cuda.is_available() else 'cpu')\n",
    "print(f\"Using device: {device}\")"
   ]
  },
  {
   "cell_type": "code",
   "execution_count": 11,
   "id": "b82747bd-ce81-441d-a69e-ecd1892b56c2",
   "metadata": {},
   "outputs": [],
   "source": [
    "vectorizer = TfidfVectorizer(\n",
    "    max_features=20000,\n",
    "    ngram_range=(1, 2),\n",
    "    min_df=3,\n",
    "    max_df=0.9\n",
    ")\n",
    "\n",
    "X_train = vectorizer.fit_transform(train_df['processed_text'])\n",
    "X_val = vectorizer.transform(val_df['processed_text'])\n",
    "y_train = np.stack(train_df['labels'].values)\n",
    "y_val = np.stack(val_df['labels'].values)"
   ]
  },
  {
   "cell_type": "code",
   "execution_count": 12,
   "id": "3969d5d3-916b-445d-8f10-433a8b91505f",
   "metadata": {},
   "outputs": [],
   "source": [
    "class Dataset(Dataset):\n",
    "    def __init__(self, X, y=None):\n",
    "        self.X = X\n",
    "        self.y = y\n",
    "        self.has_labels = y is not None\n",
    "    \n",
    "    def __len__(self):\n",
    "        return self.X.shape[0]\n",
    "    \n",
    "    def __getitem__(self, idx):\n",
    "        x_item = self.X[idx]\n",
    "        if hasattr(x_item, 'toarray'):\n",
    "            x_item = torch.FloatTensor(x_item.toarray()[0])\n",
    "        else:\n",
    "            x_item = torch.FloatTensor(x_item)\n",
    "        \n",
    "        if self.has_labels:\n",
    "            y_item = torch.FloatTensor(self.y[idx])\n",
    "            return x_item, y_item\n",
    "        return x_item"
   ]
  },
  {
   "cell_type": "code",
   "execution_count": 13,
   "id": "a9f6b006-171c-46a0-9551-02303a488fd0",
   "metadata": {},
   "outputs": [],
   "source": [
    "train_dataset = Dataset(X_train, y_train)\n",
    "val_dataset = Dataset(X_val, y_val)\n",
    "\n",
    "train_loader = DataLoader(train_dataset, batch_size=128, shuffle=True)\n",
    "val_loader = DataLoader(val_dataset, batch_size=128)"
   ]
  },
  {
   "cell_type": "code",
   "execution_count": 14,
   "id": "b66d8284-a0f2-4553-96a2-be9279d1e196",
   "metadata": {},
   "outputs": [],
   "source": [
    "class NeuralNet(nn.Module):\n",
    "    def __init__(self, input_size, num_classes):\n",
    "        super(NeuralNet, self).__init__()\n",
    "        self.fc1 = nn.Linear(input_size, 512)\n",
    "        self.bn1 = nn.BatchNorm1d(512)\n",
    "        self.drop1 = nn.Dropout(0.5)\n",
    "        self.fc2 = nn.Linear(512, 256)\n",
    "        self.bn2 = nn.BatchNorm1d(256)\n",
    "        self.drop2 = nn.Dropout(0.4)\n",
    "        self.fc3 = nn.Linear(256, num_classes)\n",
    "        \n",
    "    def forward(self, x):\n",
    "        x = torch.relu(self.fc1(x))\n",
    "        x = self.bn1(x)\n",
    "        x = self.drop1(x)\n",
    "        x = torch.relu(self.fc2(x))\n",
    "        x = self.bn2(x)\n",
    "        x = self.drop2(x)\n",
    "        x = torch.sigmoid(self.fc3(x))\n",
    "        return x"
   ]
  },
  {
   "cell_type": "code",
   "execution_count": 15,
   "id": "363b71fd-b5aa-443b-bb26-6306aeaafd74",
   "metadata": {},
   "outputs": [],
   "source": [
    "def metric(y_true, y_pred):\n",
    "    return f1_score(y_true, y_pred, average='samples')"
   ]
  },
  {
   "cell_type": "code",
   "execution_count": 16,
   "id": "d35e93b3-44ca-49ae-867d-5b81d7aac176",
   "metadata": {},
   "outputs": [],
   "source": [
    "def train_model(model, train_loader, val_loader, criterion, optimizer, epochs=30):\n",
    "    best_f1 = 0.0\n",
    "    patience = 10\n",
    "    patience_counter = 0\n",
    "    history = {'train_loss': [], 'val_loss': [], 'val_f1': []}\n",
    "    \n",
    "    scheduler = ReduceLROnPlateau(optimizer, mode='max', factor=0.5, patience=3)\n",
    "    \n",
    "    for epoch in range(epochs):\n",
    "        model.train()\n",
    "        train_loss = 0.0\n",
    "        \n",
    "        for inputs, labels in train_loader:\n",
    "            inputs, labels = inputs.to(device), labels.to(device)\n",
    "            \n",
    "            optimizer.zero_grad()\n",
    "            outputs = model(inputs)\n",
    "            loss = criterion(outputs, labels)\n",
    "            loss.backward()\n",
    "            optimizer.step()\n",
    "            train_loss += loss.item()\n",
    "        \n",
    "        model.eval()\n",
    "        val_loss = 0.0\n",
    "        all_preds = []\n",
    "        all_labels = []\n",
    "        \n",
    "        with torch.no_grad():\n",
    "            for inputs, labels in val_loader:\n",
    "                inputs, labels = inputs.to(device), labels.to(device)\n",
    "                \n",
    "                outputs = model(inputs)\n",
    "                loss = criterion(outputs, labels)\n",
    "                val_loss += loss.item()\n",
    "                \n",
    "                preds = (outputs > 0.5).float()\n",
    "                all_preds.append(preds.cpu().numpy())\n",
    "                all_labels.append(labels.cpu().numpy())\n",
    "        \n",
    "        all_preds = np.concatenate(all_preds, axis=0)\n",
    "        all_labels = np.concatenate(all_labels, axis=0)\n",
    "        \n",
    "        f1 = metric(all_labels, all_preds)\n",
    "        \n",
    "        avg_train_loss = train_loss / len(train_loader)\n",
    "        avg_val_loss = val_loss / len(val_loader)\n",
    "        \n",
    "        history['train_loss'].append(avg_train_loss)\n",
    "        history['val_loss'].append(avg_val_loss)\n",
    "        history['val_f1'].append(f1)\n",
    "        scheduler.step(f1)\n",
    "        current_lr = optimizer.param_groups[0]['lr']\n",
    "        print(f\"Epoch {epoch+1}/{epochs} | Train Loss: {avg_train_loss:.4f} | Val Loss: {avg_val_loss:.4f} | Val F1: {f1:.4f} | LR: {current_lr:.2e}\")\n",
    "        \n",
    "        if f1 > best_f1:\n",
    "            best_f1 = f1\n",
    "            patience_counter = 0\n",
    "            torch.save(model.state_dict(), 'best_model.pth')\n",
    "        else:\n",
    "            patience_counter += 1\n",
    "            if patience_counter >= patience:\n",
    "                print(\"Early stopping triggered\")\n",
    "                break\n",
    "    \n",
    "    return history"
   ]
  },
  {
   "cell_type": "code",
   "execution_count": 17,
   "id": "838e8c9c-4c1d-4f9d-845b-2f84057cc372",
   "metadata": {},
   "outputs": [
    {
     "name": "stdout",
     "output_type": "stream",
     "text": [
      "Epoch 1/30 | Train Loss: 0.4026 | Val Loss: 0.2356 | Val F1: 0.9047 | LR: 1.00e-03\n",
      "Epoch 2/30 | Train Loss: 0.2145 | Val Loss: 0.2071 | Val F1: 0.9123 | LR: 1.00e-03\n",
      "Epoch 3/30 | Train Loss: 0.1719 | Val Loss: 0.2032 | Val F1: 0.9165 | LR: 1.00e-03\n",
      "Epoch 4/30 | Train Loss: 0.1438 | Val Loss: 0.2060 | Val F1: 0.9179 | LR: 1.00e-03\n",
      "Epoch 5/30 | Train Loss: 0.1245 | Val Loss: 0.2141 | Val F1: 0.9176 | LR: 1.00e-03\n",
      "Epoch 6/30 | Train Loss: 0.1112 | Val Loss: 0.2217 | Val F1: 0.9170 | LR: 1.00e-03\n",
      "Epoch 7/30 | Train Loss: 0.0993 | Val Loss: 0.2300 | Val F1: 0.9181 | LR: 1.00e-03\n",
      "Epoch 8/30 | Train Loss: 0.0921 | Val Loss: 0.2352 | Val F1: 0.9172 | LR: 1.00e-03\n",
      "Epoch 9/30 | Train Loss: 0.0855 | Val Loss: 0.2409 | Val F1: 0.9189 | LR: 1.00e-03\n",
      "Epoch 10/30 | Train Loss: 0.0786 | Val Loss: 0.2464 | Val F1: 0.9181 | LR: 1.00e-03\n",
      "Epoch 11/30 | Train Loss: 0.0755 | Val Loss: 0.2565 | Val F1: 0.9182 | LR: 1.00e-03\n",
      "Epoch 12/30 | Train Loss: 0.0709 | Val Loss: 0.2594 | Val F1: 0.9181 | LR: 1.00e-03\n",
      "Epoch 13/30 | Train Loss: 0.0669 | Val Loss: 0.2610 | Val F1: 0.9190 | LR: 5.00e-04\n",
      "Epoch 14/30 | Train Loss: 0.0596 | Val Loss: 0.2627 | Val F1: 0.9195 | LR: 5.00e-04\n",
      "Epoch 15/30 | Train Loss: 0.0519 | Val Loss: 0.2706 | Val F1: 0.9197 | LR: 5.00e-04\n",
      "Epoch 16/30 | Train Loss: 0.0488 | Val Loss: 0.2784 | Val F1: 0.9196 | LR: 5.00e-04\n",
      "Epoch 17/30 | Train Loss: 0.0464 | Val Loss: 0.2840 | Val F1: 0.9197 | LR: 5.00e-04\n",
      "Epoch 18/30 | Train Loss: 0.0456 | Val Loss: 0.2877 | Val F1: 0.9191 | LR: 5.00e-04\n",
      "Epoch 19/30 | Train Loss: 0.0432 | Val Loss: 0.2948 | Val F1: 0.9184 | LR: 2.50e-04\n",
      "Epoch 20/30 | Train Loss: 0.0397 | Val Loss: 0.2953 | Val F1: 0.9192 | LR: 2.50e-04\n",
      "Epoch 21/30 | Train Loss: 0.0374 | Val Loss: 0.2991 | Val F1: 0.9195 | LR: 2.50e-04\n",
      "Epoch 22/30 | Train Loss: 0.0364 | Val Loss: 0.2999 | Val F1: 0.9196 | LR: 2.50e-04\n",
      "Epoch 23/30 | Train Loss: 0.0341 | Val Loss: 0.3054 | Val F1: 0.9194 | LR: 1.25e-04\n",
      "Epoch 24/30 | Train Loss: 0.0332 | Val Loss: 0.3059 | Val F1: 0.9198 | LR: 1.25e-04\n",
      "Epoch 25/30 | Train Loss: 0.0319 | Val Loss: 0.3092 | Val F1: 0.9197 | LR: 1.25e-04\n",
      "Epoch 26/30 | Train Loss: 0.0316 | Val Loss: 0.3110 | Val F1: 0.9200 | LR: 1.25e-04\n",
      "Epoch 27/30 | Train Loss: 0.0305 | Val Loss: 0.3155 | Val F1: 0.9194 | LR: 1.25e-04\n",
      "Epoch 28/30 | Train Loss: 0.0303 | Val Loss: 0.3139 | Val F1: 0.9200 | LR: 1.25e-04\n",
      "Epoch 29/30 | Train Loss: 0.0296 | Val Loss: 0.3178 | Val F1: 0.9199 | LR: 1.25e-04\n",
      "Epoch 30/30 | Train Loss: 0.0287 | Val Loss: 0.3196 | Val F1: 0.9198 | LR: 6.25e-05\n"
     ]
    }
   ],
   "source": [
    "model = NeuralNet(X_train.shape[1], y_train.shape[1]).to(device)\n",
    "criterion = nn.BCELoss()\n",
    "optimizer = optim.Adam(model.parameters(), lr=1e-3)\n",
    "history = train_model(model, train_loader, val_loader, criterion, optimizer)"
   ]
  },
  {
   "cell_type": "code",
   "execution_count": 18,
   "id": "0dae9796-0237-41e9-9234-e29c2c266e31",
   "metadata": {},
   "outputs": [
    {
     "name": "stdout",
     "output_type": "stream",
     "text": [
      "\n",
      "Best Validation F1 Score: 0.92\n"
     ]
    },
    {
     "data": {
      "image/png": "[encoded data removed]",
      "text/plain": [
       "<Figure size 1200x500 with 2 Axes>"
      ]
     },
     "metadata": {},
     "output_type": "display_data"
    }
   ],
   "source": [
    "model.load_state_dict(torch.load('best_model.pth'))\n",
    "model.eval()\n",
    "\n",
    "with torch.no_grad():\n",
    "    all_preds = []\n",
    "    all_labels = []\n",
    "    for inputs, labels in val_loader:\n",
    "        inputs, labels = inputs.to(device), labels.to(device)\n",
    "        \n",
    "        outputs = model(inputs)\n",
    "        preds = (outputs > 0.5).float()\n",
    "        all_preds.append(preds.cpu().numpy())  \n",
    "        all_labels.append(labels.cpu().numpy())  \n",
    "    \n",
    "    all_preds = np.concatenate(all_preds, axis=0)\n",
    "    all_labels = np.concatenate(all_labels, axis=0)\n",
    "    \n",
    "    f1 = metric(all_labels, all_preds)\n",
    "    print(f\"\\nBest Validation F1 Score: {round(f1, 4)}\")\n",
    "\n",
    "plt.figure(figsize=(12, 5))\n",
    "plt.subplot(1, 2, 1)\n",
    "plt.plot(history['train_loss'], label='Train Loss', color='blue')\n",
    "plt.plot(history['val_loss'], label='Validation Loss', color='red')\n",
    "plt.xlabel('Epoch')\n",
    "plt.ylabel('Loss')\n",
    "plt.title('Training and Validation Loss')\n",
    "plt.legend()\n",
    "plt.grid(True)\n",
    "plt.subplot(1, 2, 2)\n",
    "plt.plot(history['val_f1'], label='Validation F1', color='purple')\n",
    "plt.xlabel('Epoch')\n",
    "plt.ylabel('F1 Score')\n",
    "plt.title('Validation F1 Score')\n",
    "plt.legend()\n",
    "plt.grid(True)\n",
    "\n",
    "plt.tight_layout()\n",
    "plt.show()"
   ]
  },
  {
   "cell_type": "code",
   "execution_count": 19,
   "id": "8ed16311-6676-4c29-9f07-d1a7ba87f4ba",
   "metadata": {},
   "outputs": [
    {
     "name": "stderr",
     "output_type": "stream",
     "text": [
      "100%|██████████| 7392/7392 [00:02<00:00, 3267.35it/s]\n"
     ]
    }
   ],
   "source": [
    "test_df = pd.read_csv(\"test.csv\")\n",
    "test_df['processed_text'] = test_df['text'].progress_apply(preprocess_text)\n",
    "X_test = vectorizer.transform(test_df['processed_text'])"
   ]
  },
  {
   "cell_type": "code",
   "execution_count": 20,
   "id": "d00dee30-e676-4011-bedb-c92d209fd337",
   "metadata": {},
   "outputs": [],
   "source": [
    "test_dataset = Dataset(X_test)\n",
    "test_loader = DataLoader(test_dataset, batch_size=128)"
   ]
  },
  {
   "cell_type": "code",
   "execution_count": 21,
   "id": "a02b23bf-d560-4dfe-99ad-2de3ef16405c",
   "metadata": {},
   "outputs": [
    {
     "name": "stdout",
     "output_type": "stream",
     "text": [
      "Тестовые предсказания: [[0 1 0 0 1 0 0 1 1 1 0 1 1 1 1 1 1 1 1 0]\n",
      " [0 0 0 0 0 0 0 0 0 0 0 0 0 1 0 1 1 0 0 1]\n",
      " [0 1 0 0 1 0 0 1 0 1 0 0 1 1 1 0 1 1 1 0]\n",
      " [1 0 0 0 1 0 0 1 1 1 0 0 1 0 0 0 1 0 1 0]\n",
      " [1 0 0 0 1 0 0 1 1 0 0 0 1 1 1 1 1 0 0 1]\n",
      " [1 1 0 0 1 0 0 1 1 1 0 1 1 1 1 1 1 1 1 0]\n",
      " [0 1 0 0 1 0 0 1 0 1 0 0 1 1 0 1 1 1 1 0]\n",
      " [0 1 0 0 0 0 0 1 0 0 1 1 1 1 1 0 0 1 1 0]\n",
      " [0 1 0 0 1 0 0 1 1 1 0 0 1 1 1 0 1 1 1 0]\n",
      " [0 1 0 0 1 0 0 1 1 1 0 1 1 1 1 0 0 1 1 0]]\n"
     ]
    }
   ],
   "source": [
    "model = model.to(device)\n",
    "model.eval()\n",
    "\n",
    "test_preds = []\n",
    "\n",
    "with torch.no_grad():  \n",
    "    for inputs in test_loader:  \n",
    "        inputs = inputs.to(device)   \n",
    "        outputs = model(inputs)\n",
    "        preds = (outputs > 0.5).int() \n",
    "        test_preds.append(preds.cpu().numpy())  \n",
    "test_preds = np.concatenate(test_preds, axis=0)\n",
    "\n",
    "print(\"Тестовые предсказания:\", test_preds[:10])"
   ]
  },
  {
   "cell_type": "code",
   "execution_count": 22,
   "id": "ac685418-aa31-4b05-9bb1-162c5ad21f2f",
   "metadata": {},
   "outputs": [
    {
     "name": "stdout",
     "output_type": "stream",
     "text": [
      "      id                                   labels\n",
      "0  29568  0 1 0 0 1 0 0 1 1 1 0 1 1 1 1 1 1 1 1 0\n",
      "1  29569  0 0 0 0 0 0 0 0 0 0 0 0 0 1 0 1 1 0 0 1\n",
      "2  29570  0 1 0 0 1 0 0 1 0 1 0 0 1 1 1 0 1 1 1 0\n",
      "3  29571  1 0 0 0 1 0 0 1 1 1 0 0 1 0 0 0 1 0 1 0\n",
      "4  29572  1 0 0 0 1 0 0 1 1 0 0 0 1 1 1 1 1 0 0 1\n"
     ]
    }
   ],
   "source": [
    "test_id = test_df['id']\n",
    "test_id = test_df['id']\n",
    "labels = [' '.join(map(str, pred)) for pred in test_preds]\n",
    "\n",
    "results = pd.DataFrame({\n",
    "    'id': test_id,\n",
    "    'labels': labels\n",
    "})\n",
    "\n",
    "print(results.head())"
   ]
  },
  {
   "cell_type": "markdown",
   "id": "3ef37678-e6fe-46a1-8c02-e02c2f0bfa62",
   "metadata": {},
   "source": [
    "Модель выдаёт хорошие результаты на вале около 0.92 на тесте результат около 0.83"
   ]
  },
  {
   "cell_type": "markdown",
   "id": "c7a76323-6916-45e2-9112-9e77918cd740",
   "metadata": {},
   "source": [
    "## w2v + любая нейронная сеть"
   ]
  },
  {
   "cell_type": "code",
   "execution_count": 25,
   "id": "af1d0fad-0ae2-4f65-a5c7-98d3bf03d179",
   "metadata": {},
   "outputs": [
    {
     "name": "stderr",
     "output_type": "stream",
     "text": [
      "100%|██████████| 23654/23654 [00:07<00:00, 3296.39it/s]\n",
      "100%|██████████| 5914/5914 [00:01<00:00, 3385.72it/s]\n"
     ]
    }
   ],
   "source": [
    "def tokenize_text(text):\n",
    "    text = text.lower()\n",
    "    text = re.sub(r'[^\\w\\s]', ' ', text)\n",
    "    text = re.sub(r'\\s+', ' ', text).strip()\n",
    "    tokens = word_tokenize(text, language='russian')\n",
    "    tokens = [token for token in tokens if token not in stop_words and len(token) > 2]\n",
    "    return tokens\n",
    "train_df['tokens'] = train_df['text'].progress_apply(tokenize_text)\n",
    "val_df['tokens'] = val_df['text'].progress_apply(tokenize_text)"
   ]
  },
  {
   "cell_type": "code",
   "execution_count": 26,
   "id": "880d8521-7dcd-4878-8fef-e806d565c270",
   "metadata": {},
   "outputs": [],
   "source": [
    "w2v_model = Word2Vec(\n",
    "    sentences=train_df['tokens'],\n",
    "    vector_size=100,    \n",
    "    window=5,           \n",
    "    min_count=3,        \n",
    "    workers=4           \n",
    ")"
   ]
  },
  {
   "cell_type": "code",
   "execution_count": 27,
   "id": "602fce5a-d8fd-43bc-b439-fdc4ac79ade9",
   "metadata": {},
   "outputs": [],
   "source": [
    "def text_to_vector(tokens, model):\n",
    "    vectors = []\n",
    "    for token in tokens:\n",
    "        if token in model.wv:\n",
    "            vectors.append(model.wv[token])\n",
    "    \n",
    "    if len(vectors) > 0:\n",
    "        return np.mean(vectors, axis=0)\n",
    "    else:\n",
    "        return np.zeros(model.vector_size)"
   ]
  },
  {
   "cell_type": "code",
   "execution_count": 28,
   "id": "200044b9-5404-4711-8948-8946ad99c865",
   "metadata": {},
   "outputs": [],
   "source": [
    "X_train_w2v = np.array([text_to_vector(tokens, w2v_model) for tokens in train_df['tokens']])\n",
    "X_val_w2v = np.array([text_to_vector(tokens, w2v_model) for tokens in val_df['tokens']])\n",
    "train_dataset_w2v = Dataset(X_train_w2v, y_train)\n",
    "val_dataset_w2v = Dataset(X_val_w2v, y_val)\n",
    "train_loader_w2v = DataLoader(train_dataset_w2v, batch_size=128, shuffle=True)\n",
    "val_loader_w2v = DataLoader(val_dataset_w2v, batch_size=128)"
   ]
  },
  {
   "cell_type": "code",
   "execution_count": 29,
   "id": "b571f751-5086-497b-aa3c-ef10880e1e07",
   "metadata": {},
   "outputs": [],
   "source": [
    "class Word2VecNet(nn.Module):\n",
    "    def __init__(self, input_size, num_classes):\n",
    "        super(Word2VecNet, self).__init__()\n",
    "        self.fc1 = nn.Linear(input_size, 256)\n",
    "        self.bn1 = nn.BatchNorm1d(256)\n",
    "        self.drop1 = nn.Dropout(0.4)\n",
    "        self.fc2 = nn.Linear(256, 128)\n",
    "        self.bn2 = nn.BatchNorm1d(128)\n",
    "        self.drop2 = nn.Dropout(0.3)\n",
    "        self.fc3 = nn.Linear(128, num_classes)\n",
    "        \n",
    "    def forward(self, x):\n",
    "        x = torch.relu(self.fc1(x))\n",
    "        x = self.bn1(x)\n",
    "        x = self.drop1(x)\n",
    "        x = torch.relu(self.fc2(x))\n",
    "        x = self.bn2(x)\n",
    "        x = self.drop2(x)\n",
    "        x = torch.sigmoid(self.fc3(x))\n",
    "        return x"
   ]
  },
  {
   "cell_type": "code",
   "execution_count": 30,
   "id": "368626fa-fb9d-4721-bf95-184d6698239b",
   "metadata": {},
   "outputs": [
    {
     "name": "stdout",
     "output_type": "stream",
     "text": [
      "Epoch 1/30 | Train Loss: 0.4621 | Val Loss: 0.3142 | Val F1: 0.8730 | LR: 1.00e-03\n",
      "Epoch 2/30 | Train Loss: 0.3191 | Val Loss: 0.2884 | Val F1: 0.8774 | LR: 1.00e-03\n",
      "Epoch 3/30 | Train Loss: 0.3047 | Val Loss: 0.2811 | Val F1: 0.8798 | LR: 1.00e-03\n",
      "Epoch 4/30 | Train Loss: 0.2991 | Val Loss: 0.2774 | Val F1: 0.8819 | LR: 1.00e-03\n",
      "Epoch 5/30 | Train Loss: 0.2950 | Val Loss: 0.2744 | Val F1: 0.8838 | LR: 1.00e-03\n",
      "Epoch 6/30 | Train Loss: 0.2920 | Val Loss: 0.2728 | Val F1: 0.8831 | LR: 1.00e-03\n",
      "Epoch 7/30 | Train Loss: 0.2889 | Val Loss: 0.2693 | Val F1: 0.8850 | LR: 1.00e-03\n",
      "Epoch 8/30 | Train Loss: 0.2867 | Val Loss: 0.2684 | Val F1: 0.8857 | LR: 1.00e-03\n",
      "Epoch 9/30 | Train Loss: 0.2842 | Val Loss: 0.2656 | Val F1: 0.8877 | LR: 1.00e-03\n",
      "Epoch 10/30 | Train Loss: 0.2832 | Val Loss: 0.2644 | Val F1: 0.8873 | LR: 1.00e-03\n",
      "Epoch 11/30 | Train Loss: 0.2826 | Val Loss: 0.2645 | Val F1: 0.8870 | LR: 1.00e-03\n",
      "Epoch 12/30 | Train Loss: 0.2809 | Val Loss: 0.2647 | Val F1: 0.8864 | LR: 1.00e-03\n",
      "Epoch 13/30 | Train Loss: 0.2797 | Val Loss: 0.2607 | Val F1: 0.8885 | LR: 1.00e-03\n",
      "Epoch 14/30 | Train Loss: 0.2779 | Val Loss: 0.2594 | Val F1: 0.8883 | LR: 1.00e-03\n",
      "Epoch 15/30 | Train Loss: 0.2786 | Val Loss: 0.2598 | Val F1: 0.8893 | LR: 1.00e-03\n",
      "Epoch 16/30 | Train Loss: 0.2773 | Val Loss: 0.2605 | Val F1: 0.8884 | LR: 1.00e-03\n",
      "Epoch 17/30 | Train Loss: 0.2761 | Val Loss: 0.2582 | Val F1: 0.8894 | LR: 1.00e-03\n",
      "Epoch 18/30 | Train Loss: 0.2770 | Val Loss: 0.2576 | Val F1: 0.8905 | LR: 1.00e-03\n",
      "Epoch 19/30 | Train Loss: 0.2739 | Val Loss: 0.2566 | Val F1: 0.8902 | LR: 1.00e-03\n",
      "Epoch 20/30 | Train Loss: 0.2746 | Val Loss: 0.2578 | Val F1: 0.8902 | LR: 1.00e-03\n",
      "Epoch 21/30 | Train Loss: 0.2727 | Val Loss: 0.2554 | Val F1: 0.8904 | LR: 1.00e-03\n",
      "Epoch 22/30 | Train Loss: 0.2732 | Val Loss: 0.2561 | Val F1: 0.8904 | LR: 5.00e-04\n",
      "Epoch 23/30 | Train Loss: 0.2684 | Val Loss: 0.2509 | Val F1: 0.8925 | LR: 5.00e-04\n",
      "Epoch 24/30 | Train Loss: 0.2674 | Val Loss: 0.2512 | Val F1: 0.8931 | LR: 5.00e-04\n",
      "Epoch 25/30 | Train Loss: 0.2656 | Val Loss: 0.2498 | Val F1: 0.8931 | LR: 5.00e-04\n",
      "Epoch 26/30 | Train Loss: 0.2652 | Val Loss: 0.2483 | Val F1: 0.8941 | LR: 5.00e-04\n",
      "Epoch 27/30 | Train Loss: 0.2640 | Val Loss: 0.2494 | Val F1: 0.8934 | LR: 5.00e-04\n",
      "Epoch 28/30 | Train Loss: 0.2644 | Val Loss: 0.2504 | Val F1: 0.8934 | LR: 5.00e-04\n",
      "Epoch 29/30 | Train Loss: 0.2636 | Val Loss: 0.2490 | Val F1: 0.8930 | LR: 5.00e-04\n",
      "Epoch 30/30 | Train Loss: 0.2638 | Val Loss: 0.2479 | Val F1: 0.8945 | LR: 5.00e-04\n"
     ]
    }
   ],
   "source": [
    "model_w2v = Word2VecNet(X_train_w2v.shape[1], y_train.shape[1]).to(device)\n",
    "criterion = nn.BCELoss()\n",
    "optimizer = optim.Adam(model_w2v.parameters(), lr=1e-3)\n",
    "history_w2v = train_model(model_w2v, train_loader_w2v, val_loader_w2v, criterion, optimizer, epochs=30)"
   ]
  },
  {
   "cell_type": "code",
   "execution_count": 31,
   "id": "02d25ec5-82ff-4e51-b3da-2a79f4692943",
   "metadata": {},
   "outputs": [
    {
     "data": {
      "image/png": "[encoded data removed]",
      "text/plain": [
       "<Figure size 1200x500 with 2 Axes>"
      ]
     },
     "metadata": {},
     "output_type": "display_data"
    }
   ],
   "source": [
    "plt.figure(figsize=(12, 5))\n",
    "plt.subplot(1, 2, 1)\n",
    "plt.plot(history_w2v['train_loss'], label='Train Loss', color='blue')\n",
    "plt.plot(history_w2v['val_loss'], label='Validation Loss', color='red')\n",
    "plt.xlabel('Epoch')\n",
    "plt.ylabel('Loss')\n",
    "plt.title('Training and Validation Loss (Word2Vec)')\n",
    "plt.legend()\n",
    "plt.grid(True)\n",
    "plt.subplot(1, 2, 2)\n",
    "plt.plot(history_w2v['val_f1'], label='Validation F1', color='purple')\n",
    "plt.xlabel('Epoch')\n",
    "plt.ylabel('F1 Score')\n",
    "plt.title('Validation F1 Score (Word2Vec)')\n",
    "plt.legend()\n",
    "plt.grid(True)\n",
    "plt.tight_layout()\n",
    "plt.show()"
   ]
  },
  {
   "cell_type": "markdown",
   "id": "c61fbac9-9ac2-482e-a659-33d4bb3e7600",
   "metadata": {},
   "source": [
    "Модель выдаёт хорошие результаты на вале около 0.9, однако на тесте результат около 0.76"
   ]
  },
  {
   "cell_type": "markdown",
   "id": "614c50d2-cb5c-44fa-b24f-17532dc2b263",
   "metadata": {},
   "source": [
    "## встроенный эмбеддинг в нейросетевое решение на свёрточных сетях"
   ]
  },
  {
   "cell_type": "code",
   "execution_count": 34,
   "id": "8d086aa6-8503-4640-8ccd-395030bd66ec",
   "metadata": {},
   "outputs": [],
   "source": [
    "def preprocess_text_for_cnn(text):\n",
    "    text = text.lower()\n",
    "    text = re.sub(r'[^а-яё\\s]', ' ', text)  \n",
    "    text = re.sub(r'\\s+', ' ', text).strip()\n",
    "    return text"
   ]
  },
  {
   "cell_type": "code",
   "execution_count": 35,
   "id": "4e537c96-718d-4501-9e32-54bb73893fc4",
   "metadata": {},
   "outputs": [],
   "source": [
    "class TextTokenizer:\n",
    "    def __init__(self, max_words=20000):\n",
    "        self.max_words = max_words\n",
    "        self.word_index = {}\n",
    "        self.index_word = {}\n",
    "        \n",
    "    def fit_on_texts(self, texts):\n",
    "        word_counts = {}\n",
    "        for text in texts:\n",
    "            for word in text.split():\n",
    "                if word in word_counts:\n",
    "                    word_counts[word] += 1\n",
    "                else:\n",
    "                    word_counts[word] = 1\n",
    "        \n",
    "        sorted_words = sorted(word_counts.items(), key=lambda x: x[1], reverse=True)\n",
    "        sorted_words = sorted_words[:self.max_words-1]\n",
    "        \n",
    "        self.word_index = {word: i+1 for i, (word, count) in enumerate(sorted_words)}\n",
    "        self.word_index['<OOV>'] = 0  \n",
    "        self.index_word = {i: word for word, i in self.word_index.items()}\n",
    "    \n",
    "    def texts_to_sequences(self, texts, max_len=100):\n",
    "        sequences = []\n",
    "        for text in texts:\n",
    "            seq = []\n",
    "            words = text.split()[:max_len]  \n",
    "            for word in words:\n",
    "                seq.append(self.word_index.get(word, 0))  # 0 для OOV\n",
    "            sequences.append(seq)\n",
    "        return sequences"
   ]
  },
  {
   "cell_type": "code",
   "execution_count": 36,
   "id": "a3392abe-d8b5-42e3-9e96-bfccaa978ca6",
   "metadata": {},
   "outputs": [],
   "source": [
    "class PaddedSequenceDataset(Dataset):\n",
    "    def __init__(self, sequences, y=None, max_len=100):\n",
    "        self.sequences = sequences\n",
    "        self.y = y\n",
    "        self.has_labels = y is not None\n",
    "        self.max_len = max_len\n",
    "    \n",
    "    def __len__(self):\n",
    "        return len(self.sequences)\n",
    "    \n",
    "    def __getitem__(self, idx):\n",
    "        seq = self.sequences[idx]\n",
    "        if len(seq) < self.max_len:\n",
    "            seq = seq + [0] * (self.max_len - len(seq))\n",
    "        else:\n",
    "            seq = seq[:self.max_len]\n",
    "        \n",
    "        x_item = torch.LongTensor(seq)\n",
    "        \n",
    "        if self.has_labels:\n",
    "            y_item = torch.FloatTensor(self.y[idx])\n",
    "            return x_item, y_item\n",
    "        return x_item"
   ]
  },
  {
   "cell_type": "code",
   "execution_count": 37,
   "id": "834ce001-9c23-47b7-87a8-8c19f7434646",
   "metadata": {},
   "outputs": [],
   "source": [
    "class CNNTextClassifier(nn.Module):\n",
    "    def __init__(self, vocab_size, embedding_dim, num_classes, max_len=100):\n",
    "        super().__init__()\n",
    "        self.embedding = nn.Embedding(vocab_size, embedding_dim, padding_idx=0)\n",
    "        \n",
    "        self.conv_blocks = nn.Sequential(\n",
    "            nn.Conv1d(embedding_dim, 64, kernel_size=3, padding=1),  \n",
    "            nn.ReLU(),\n",
    "            nn.BatchNorm1d(64),\n",
    "            nn.Dropout(0.7),  \n",
    "            nn.MaxPool1d(2),\n",
    "            \n",
    "            nn.Conv1d(64, 128, kernel_size=3, padding=1),\n",
    "            nn.ReLU(),\n",
    "            nn.BatchNorm1d(128),\n",
    "            nn.Dropout(0.7)  \n",
    "        )\n",
    "        \n",
    "        self.classifier = nn.Sequential(\n",
    "            nn.Linear(128 * (max_len // 2), 64),\n",
    "            nn.ReLU(),\n",
    "            nn.Dropout(0.7),\n",
    "            nn.Linear(64, num_classes)\n",
    "        )\n",
    "        \n",
    "    def forward(self, x):\n",
    "        x = self.embedding(x)  \n",
    "        x = x.permute(0, 2, 1)  \n",
    "        \n",
    "        x = self.conv_blocks(x)\n",
    "        x = x.view(x.size(0), -1)  \n",
    "        \n",
    "        return torch.sigmoid(self.classifier(x))"
   ]
  },
  {
   "cell_type": "code",
   "execution_count": 38,
   "id": "777203f6-4e87-4748-b030-05f7c404ddb6",
   "metadata": {},
   "outputs": [
    {
     "name": "stderr",
     "output_type": "stream",
     "text": [
      "100%|██████████| 23654/23654 [00:01<00:00, 22174.80it/s]\n",
      "100%|██████████| 5914/5914 [00:00<00:00, 18518.23it/s]\n",
      "100%|██████████| 7392/7392 [00:00<00:00, 18048.85it/s]\n"
     ]
    }
   ],
   "source": [
    "train_df['text_for_cnn'] = train_df['text'].progress_apply(preprocess_text_for_cnn)\n",
    "val_df['text_for_cnn'] = val_df['text'].progress_apply(preprocess_text_for_cnn)\n",
    "test_df['text_for_cnn'] = test_df['text'].progress_apply(preprocess_text_for_cnn)\n",
    "\n",
    "y_train = np.stack(train_df['labels'].values)\n",
    "y_val = np.stack(val_df['labels'].values)\n",
    "\n",
    "tokenizer = TextTokenizer(max_words=20000)\n",
    "tokenizer.fit_on_texts(train_df['text_for_cnn'])  \n",
    "\n",
    "X_train_seq = tokenizer.texts_to_sequences(train_df['text_for_cnn'])\n",
    "X_val_seq = tokenizer.texts_to_sequences(val_df['text_for_cnn'])\n",
    "X_test_seq = tokenizer.texts_to_sequences(test_df['text_for_cnn'])\n",
    "\n",
    "text_lengths = [len(seq) for seq in X_train_seq]\n",
    "max_seq_len = int(np.percentile(text_lengths, 95))"
   ]
  },
  {
   "cell_type": "code",
   "execution_count": 39,
   "id": "1d44a8d3-bd9a-4c46-8959-19e6a9774315",
   "metadata": {},
   "outputs": [],
   "source": [
    "train_seq_dataset = PaddedSequenceDataset(X_train_seq, y_train, max_len=max_seq_len)\n",
    "val_seq_dataset = PaddedSequenceDataset(X_val_seq, y_val, max_len=max_seq_len)\n",
    "test_seq_dataset = PaddedSequenceDataset(X_test_seq, max_len=max_seq_len)\n",
    "\n",
    "train_seq_loader = DataLoader(train_seq_dataset, batch_size=128, shuffle=True)\n",
    "val_seq_loader = DataLoader(val_seq_dataset, batch_size=128)\n",
    "test_seq_loader = DataLoader(test_seq_dataset, batch_size=128)"
   ]
  },
  {
   "cell_type": "code",
   "execution_count": 40,
   "id": "110d21ca-551d-4878-8638-812c81ce270e",
   "metadata": {},
   "outputs": [
    {
     "name": "stdout",
     "output_type": "stream",
     "text": [
      "Epoch 1/30 | Train Loss: 0.4299 | Val Loss: 0.4448 | Val F1: 0.8001 | LR: 1.00e-03\n",
      "Epoch 2/30 | Train Loss: 0.3569 | Val Loss: 0.4043 | Val F1: 0.8189 | LR: 1.00e-03\n",
      "Epoch 3/30 | Train Loss: 0.3444 | Val Loss: 0.3969 | Val F1: 0.8200 | LR: 1.00e-03\n",
      "Epoch 4/30 | Train Loss: 0.3360 | Val Loss: 0.3706 | Val F1: 0.8350 | LR: 1.00e-03\n",
      "Epoch 5/30 | Train Loss: 0.3255 | Val Loss: 0.3376 | Val F1: 0.8488 | LR: 1.00e-03\n",
      "Epoch 6/30 | Train Loss: 0.3171 | Val Loss: 0.3338 | Val F1: 0.8516 | LR: 1.00e-03\n",
      "Epoch 7/30 | Train Loss: 0.3099 | Val Loss: 0.3209 | Val F1: 0.8532 | LR: 1.00e-03\n",
      "Epoch 8/30 | Train Loss: 0.3042 | Val Loss: 0.3114 | Val F1: 0.8606 | LR: 1.00e-03\n",
      "Epoch 9/30 | Train Loss: 0.2985 | Val Loss: 0.3029 | Val F1: 0.8658 | LR: 1.00e-03\n",
      "Epoch 10/30 | Train Loss: 0.2950 | Val Loss: 0.2971 | Val F1: 0.8655 | LR: 1.00e-03\n",
      "Epoch 11/30 | Train Loss: 0.2922 | Val Loss: 0.2946 | Val F1: 0.8698 | LR: 1.00e-03\n",
      "Epoch 12/30 | Train Loss: 0.2887 | Val Loss: 0.2903 | Val F1: 0.8694 | LR: 1.00e-03\n",
      "Epoch 13/30 | Train Loss: 0.2863 | Val Loss: 0.2866 | Val F1: 0.8720 | LR: 1.00e-03\n",
      "Epoch 14/30 | Train Loss: 0.2831 | Val Loss: 0.2871 | Val F1: 0.8725 | LR: 1.00e-03\n",
      "Epoch 15/30 | Train Loss: 0.2813 | Val Loss: 0.2802 | Val F1: 0.8751 | LR: 1.00e-03\n",
      "Epoch 16/30 | Train Loss: 0.2785 | Val Loss: 0.2732 | Val F1: 0.8777 | LR: 1.00e-03\n",
      "Epoch 17/30 | Train Loss: 0.2766 | Val Loss: 0.2797 | Val F1: 0.8745 | LR: 1.00e-03\n",
      "Epoch 18/30 | Train Loss: 0.2742 | Val Loss: 0.2774 | Val F1: 0.8758 | LR: 1.00e-03\n",
      "Epoch 19/30 | Train Loss: 0.2729 | Val Loss: 0.2702 | Val F1: 0.8781 | LR: 1.00e-03\n",
      "Epoch 20/30 | Train Loss: 0.2707 | Val Loss: 0.2676 | Val F1: 0.8810 | LR: 1.00e-03\n",
      "Epoch 21/30 | Train Loss: 0.2697 | Val Loss: 0.2692 | Val F1: 0.8798 | LR: 1.00e-03\n",
      "Epoch 22/30 | Train Loss: 0.2672 | Val Loss: 0.2689 | Val F1: 0.8786 | LR: 1.00e-03\n",
      "Epoch 23/30 | Train Loss: 0.2659 | Val Loss: 0.2705 | Val F1: 0.8802 | LR: 1.00e-03\n",
      "Epoch 24/30 | Train Loss: 0.2648 | Val Loss: 0.2700 | Val F1: 0.8798 | LR: 5.00e-04\n",
      "Epoch 25/30 | Train Loss: 0.2615 | Val Loss: 0.2666 | Val F1: 0.8812 | LR: 5.00e-04\n",
      "Epoch 26/30 | Train Loss: 0.2598 | Val Loss: 0.2712 | Val F1: 0.8784 | LR: 5.00e-04\n",
      "Epoch 27/30 | Train Loss: 0.2593 | Val Loss: 0.2694 | Val F1: 0.8798 | LR: 5.00e-04\n",
      "Epoch 28/30 | Train Loss: 0.2584 | Val Loss: 0.2688 | Val F1: 0.8788 | LR: 5.00e-04\n",
      "Epoch 29/30 | Train Loss: 0.2575 | Val Loss: 0.2683 | Val F1: 0.8800 | LR: 2.50e-04\n",
      "Epoch 30/30 | Train Loss: 0.2553 | Val Loss: 0.2696 | Val F1: 0.8798 | LR: 2.50e-04\n"
     ]
    }
   ],
   "source": [
    "vocab_size = len(tokenizer.word_index)\n",
    "embedding_dim = 128\n",
    "num_classes = y_train.shape[1]\n",
    "\n",
    "model = CNNTextClassifier(vocab_size, embedding_dim, num_classes, max_seq_len).to(device)\n",
    "optimizer = optim.AdamW(model.parameters(), lr=1e-3, weight_decay=1e-4)\n",
    "criterion = nn.BCELoss()\n",
    "\n",
    "history = train_model(\n",
    "    model, \n",
    "    train_seq_loader, \n",
    "    val_seq_loader, \n",
    "    criterion, \n",
    "    optimizer, \n",
    "    epochs=30\n",
    ")"
   ]
  },
  {
   "cell_type": "code",
   "execution_count": 41,
   "id": "2a4e0615-a5ba-4ed4-9bc9-45ffedf6d36c",
   "metadata": {},
   "outputs": [
    {
     "name": "stdout",
     "output_type": "stream",
     "text": [
      "\n",
      "Best CNN Validation F1 Score: 0.8812\n"
     ]
    }
   ],
   "source": [
    "model.load_state_dict(torch.load('best_model.pth'))\n",
    "model.eval()\n",
    "\n",
    "with torch.no_grad():\n",
    "    all_preds = []\n",
    "    all_labels = []\n",
    "    for inputs, labels in val_seq_loader:\n",
    "        inputs, labels = inputs.to(device), labels.to(device)\n",
    "        outputs = model(inputs)\n",
    "        preds = (outputs > 0.5).float()\n",
    "        all_preds.append(preds.cpu().numpy())\n",
    "        all_labels.append(labels.cpu().numpy())\n",
    "    \n",
    "    all_preds = np.concatenate(all_preds, axis=0)\n",
    "    all_labels = np.concatenate(all_labels, axis=0)\n",
    "    \n",
    "    f1 = metric(all_labels, all_preds)\n",
    "    print(f\"\\nBest CNN Validation F1 Score: {round(f1, 4)}\")"
   ]
  },
  {
   "cell_type": "code",
   "execution_count": 42,
   "id": "9d84b78b-8ef7-4bbf-a982-a23deb7ae21b",
   "metadata": {},
   "outputs": [
    {
     "data": {
      "image/png": "[encoded data removed]",
      "text/plain": [
       "<Figure size 1200x500 with 2 Axes>"
      ]
     },
     "metadata": {},
     "output_type": "display_data"
    }
   ],
   "source": [
    "plt.figure(figsize=(12, 5))\n",
    "\n",
    "plt.subplot(1, 2, 1)\n",
    "plt.plot(history['train_loss'], label='Train Loss', color='blue')\n",
    "plt.plot(history['val_loss'], label='Validation Loss', color='red')\n",
    "plt.xlabel('Epoch')\n",
    "plt.ylabel('Loss')\n",
    "plt.title('CNN Training and Validation Loss')\n",
    "plt.legend()\n",
    "plt.grid(True)\n",
    "\n",
    "plt.subplot(1, 2, 2)\n",
    "plt.plot(history['val_f1'], label='Validation F1', color='purple')\n",
    "plt.xlabel('Epoch')\n",
    "plt.ylabel('F1 Score')\n",
    "plt.title('CNN Validation F1 Score')\n",
    "plt.legend()\n",
    "plt.grid(True)\n",
    "\n",
    "plt.tight_layout()\n",
    "plt.show()"
   ]
  },
  {
   "cell_type": "markdown",
   "id": "5cd70662-7ad6-41ca-a27f-281c3a0ce23a",
   "metadata": {},
   "source": [
    "Модель выдаёт результаты на вале около 0.89, однако на тесте результат ещё хуже чем у прошлой модели около 0.73"
   ]
  },
  {
   "cell_type": "markdown",
   "id": "cf600246-da8e-4835-843d-77c64beaa6b9",
   "metadata": {},
   "source": [
    "## встроенный эмбеддинг в нейросетевое решение на рекуррентных сетях"
   ]
  },
  {
   "cell_type": "code",
   "execution_count": 45,
   "id": "7b4672d8-2460-4851-b0a8-534e60917886",
   "metadata": {},
   "outputs": [],
   "source": [
    "y_train = np.stack(train_df['labels'].values)\n",
    "y_val = np.stack(val_df['labels'].values)\n",
    "def preprocess_for_embeddings(text):\n",
    "    text = text.lower()\n",
    "    text = re.sub(r'[^\\w\\s.,!?]', ' ', text)  \n",
    "    text = re.sub(r'\\s+', ' ', text).strip()\n",
    "    return text"
   ]
  },
  {
   "cell_type": "code",
   "execution_count": 46,
   "id": "e246937e-30ed-4611-8105-999bfad39a13",
   "metadata": {},
   "outputs": [
    {
     "name": "stdout",
     "output_type": "stream",
     "text": [
      "Преобразование текстов для LSTM...\n"
     ]
    },
    {
     "name": "stderr",
     "output_type": "stream",
     "text": [
      "100%|██████████| 23654/23654 [00:01<00:00, 22289.07it/s]\n",
      "100%|██████████| 5914/5914 [00:00<00:00, 22338.56it/s]\n",
      "100%|██████████| 7392/7392 [00:00<00:00, 24707.85it/s]\n"
     ]
    }
   ],
   "source": [
    "print(\"Преобразование текстов для LSTM...\")\n",
    "train_df['processed_text'] = train_df['text'].progress_apply(preprocess_for_embeddings)\n",
    "val_df['processed_text'] = val_df['text'].progress_apply(preprocess_for_embeddings)\n",
    "test_df['processed_text'] = test_df['text'].progress_apply(preprocess_for_embeddings)"
   ]
  },
  {
   "cell_type": "code",
   "execution_count": 47,
   "id": "214943fe-eb0d-47a8-a814-97c8e35d0a06",
   "metadata": {},
   "outputs": [],
   "source": [
    "MAX_WORDS = 20000\n",
    "MAX_SEQUENCE_LENGTH = 100\n",
    "\n",
    "tokenizer = Tokenizer(\n",
    "    num_words=MAX_WORDS,\n",
    "    filters='',\n",
    "    lower=False,\n",
    "    oov_token='<UNK>'\n",
    ")\n",
    "tokenizer.fit_on_texts(train_df['processed_text'])"
   ]
  },
  {
   "cell_type": "code",
   "execution_count": 48,
   "id": "1e66c59b-6672-4204-9646-5f6e7890702b",
   "metadata": {},
   "outputs": [],
   "source": [
    "X_train_seq = tokenizer.texts_to_sequences(train_df['processed_text'])\n",
    "X_val_seq = tokenizer.texts_to_sequences(val_df['processed_text'])\n",
    "X_test_seq = tokenizer.texts_to_sequences(test_df['processed_text'])\n",
    "\n",
    "X_train_pad = pad_sequences(X_train_seq, maxlen=MAX_SEQUENCE_LENGTH, padding='post', truncating='post')\n",
    "X_val_pad = pad_sequences(X_val_seq, maxlen=MAX_SEQUENCE_LENGTH, padding='post', truncating='post')\n",
    "X_test_pad = pad_sequences(X_test_seq, maxlen=MAX_SEQUENCE_LENGTH, padding='post', truncating='post')"
   ]
  },
  {
   "cell_type": "code",
   "execution_count": 49,
   "id": "366e3a93-a104-4073-aba9-32657cceb260",
   "metadata": {},
   "outputs": [],
   "source": [
    "class SequenceDataset(Dataset):\n",
    "    def __init__(self, X, y=None):\n",
    "        self.X = X\n",
    "        self.y = y\n",
    "        self.has_labels = y is not None\n",
    "    \n",
    "    def __len__(self):\n",
    "        return len(self.X)\n",
    "    \n",
    "    def __getitem__(self, idx):\n",
    "        x_item = torch.LongTensor(self.X[idx])\n",
    "        if self.has_labels:\n",
    "            y_item = torch.FloatTensor(self.y[idx])\n",
    "            return x_item, y_item\n",
    "        return x_item"
   ]
  },
  {
   "cell_type": "code",
   "execution_count": 50,
   "id": "ca382ff9-1171-4fd6-8f36-79fbfc0ca23c",
   "metadata": {},
   "outputs": [],
   "source": [
    "train_seq_dataset = SequenceDataset(X_train_pad, y_train)\n",
    "val_seq_dataset = SequenceDataset(X_val_pad, y_val)\n",
    "test_seq_dataset = SequenceDataset(X_test_pad)\n",
    "\n",
    "train_seq_loader = DataLoader(train_seq_dataset, batch_size=128, shuffle=True)\n",
    "val_seq_loader = DataLoader(val_seq_dataset, batch_size=128)\n",
    "test_seq_loader = DataLoader(test_seq_dataset, batch_size=128)"
   ]
  },
  {
   "cell_type": "code",
   "execution_count": 51,
   "id": "4091fc9b-bc23-4c43-ad4d-589f3f5e96d2",
   "metadata": {},
   "outputs": [],
   "source": [
    "class LSTMNet(nn.Module):\n",
    "    def __init__(self, vocab_size, embedding_dim, hidden_dim, num_classes):\n",
    "        super(LSTMNet, self).__init__()\n",
    "        self.embedding = nn.Embedding(vocab_size, embedding_dim, padding_idx=0)\n",
    "        self.lstm = nn.LSTM(embedding_dim, hidden_dim, batch_first=True, bidirectional=True)\n",
    "        self.dropout = nn.Dropout(0.7)\n",
    "        self.fc = nn.Linear(hidden_dim * 2, num_classes)\n",
    "        \n",
    "    def forward(self, x):\n",
    "        x = self.embedding(x)\n",
    "        lstm_out, _ = self.lstm(x)\n",
    "        lstm_out = lstm_out[:, -1, :]  # Берем последний hidden state\n",
    "        x = self.dropout(lstm_out)\n",
    "        x = torch.sigmoid(self.fc(x))\n",
    "        return x"
   ]
  },
  {
   "cell_type": "code",
   "execution_count": 52,
   "id": "7cd63959-518a-4167-b501-cd2c28950bf2",
   "metadata": {},
   "outputs": [
    {
     "name": "stdout",
     "output_type": "stream",
     "text": [
      "\n",
      "Обучение LSTM модели...\n",
      "Epoch 1/30 | Train Loss: 0.3903 | Val Loss: 0.3267 | Val F1: 0.8458 | LR: 1.00e-03\n",
      "Epoch 2/30 | Train Loss: 0.3296 | Val Loss: 0.3190 | Val F1: 0.8524 | LR: 1.00e-03\n",
      "Epoch 3/30 | Train Loss: 0.3152 | Val Loss: 0.2966 | Val F1: 0.8560 | LR: 1.00e-03\n",
      "Epoch 4/30 | Train Loss: 0.2958 | Val Loss: 0.2809 | Val F1: 0.8760 | LR: 1.00e-03\n",
      "Epoch 5/30 | Train Loss: 0.2813 | Val Loss: 0.2703 | Val F1: 0.8812 | LR: 1.00e-03\n",
      "Epoch 6/30 | Train Loss: 0.2684 | Val Loss: 0.2646 | Val F1: 0.8824 | LR: 1.00e-03\n",
      "Epoch 7/30 | Train Loss: 0.2587 | Val Loss: 0.2580 | Val F1: 0.8877 | LR: 1.00e-03\n",
      "Epoch 8/30 | Train Loss: 0.2500 | Val Loss: 0.2522 | Val F1: 0.8917 | LR: 1.00e-03\n",
      "Epoch 9/30 | Train Loss: 0.2407 | Val Loss: 0.2471 | Val F1: 0.8939 | LR: 1.00e-03\n",
      "Epoch 10/30 | Train Loss: 0.2320 | Val Loss: 0.2435 | Val F1: 0.8969 | LR: 1.00e-03\n",
      "Epoch 11/30 | Train Loss: 0.2244 | Val Loss: 0.2390 | Val F1: 0.8979 | LR: 1.00e-03\n",
      "Epoch 12/30 | Train Loss: 0.2161 | Val Loss: 0.2351 | Val F1: 0.8997 | LR: 1.00e-03\n",
      "Epoch 13/30 | Train Loss: 0.2090 | Val Loss: 0.2328 | Val F1: 0.9002 | LR: 1.00e-03\n",
      "Epoch 14/30 | Train Loss: 0.2006 | Val Loss: 0.2351 | Val F1: 0.9026 | LR: 1.00e-03\n",
      "Epoch 15/30 | Train Loss: 0.1944 | Val Loss: 0.2292 | Val F1: 0.9049 | LR: 1.00e-03\n",
      "Epoch 16/30 | Train Loss: 0.1877 | Val Loss: 0.2287 | Val F1: 0.9057 | LR: 1.00e-03\n",
      "Epoch 17/30 | Train Loss: 0.1817 | Val Loss: 0.2290 | Val F1: 0.9066 | LR: 1.00e-03\n",
      "Epoch 18/30 | Train Loss: 0.1755 | Val Loss: 0.2310 | Val F1: 0.9077 | LR: 1.00e-03\n",
      "Epoch 19/30 | Train Loss: 0.1698 | Val Loss: 0.2319 | Val F1: 0.9088 | LR: 1.00e-03\n",
      "Epoch 20/30 | Train Loss: 0.1649 | Val Loss: 0.2376 | Val F1: 0.9093 | LR: 1.00e-03\n",
      "Epoch 21/30 | Train Loss: 0.1595 | Val Loss: 0.2431 | Val F1: 0.9095 | LR: 1.00e-03\n",
      "Epoch 22/30 | Train Loss: 0.1555 | Val Loss: 0.2406 | Val F1: 0.9099 | LR: 1.00e-03\n",
      "Epoch 23/30 | Train Loss: 0.1509 | Val Loss: 0.2414 | Val F1: 0.9110 | LR: 1.00e-03\n",
      "Epoch 24/30 | Train Loss: 0.1471 | Val Loss: 0.2455 | Val F1: 0.9106 | LR: 1.00e-03\n",
      "Epoch 25/30 | Train Loss: 0.1431 | Val Loss: 0.2485 | Val F1: 0.9113 | LR: 1.00e-03\n",
      "Epoch 26/30 | Train Loss: 0.1387 | Val Loss: 0.2522 | Val F1: 0.9124 | LR: 1.00e-03\n",
      "Epoch 27/30 | Train Loss: 0.1361 | Val Loss: 0.2592 | Val F1: 0.9116 | LR: 1.00e-03\n",
      "Epoch 28/30 | Train Loss: 0.1326 | Val Loss: 0.2611 | Val F1: 0.9124 | LR: 1.00e-03\n",
      "Epoch 29/30 | Train Loss: 0.1285 | Val Loss: 0.2596 | Val F1: 0.9132 | LR: 1.00e-03\n",
      "Epoch 30/30 | Train Loss: 0.1259 | Val Loss: 0.2642 | Val F1: 0.9123 | LR: 1.00e-03\n"
     ]
    }
   ],
   "source": [
    "VOCAB_SIZE = min(MAX_WORDS, len(tokenizer.word_index) + 1)\n",
    "EMBEDDING_DIM = 128\n",
    "HIDDEN_DIM = 192\n",
    "NUM_CLASSES = y_train.shape[1]\n",
    "\n",
    "lstm_model = LSTMNet(VOCAB_SIZE, EMBEDDING_DIM, HIDDEN_DIM, NUM_CLASSES).to(device)\n",
    "optimizer = optim.AdamW(lstm_model.parameters(), lr=1e-3, weight_decay=1e-4)\n",
    "criterion = nn.BCELoss()\n",
    "\n",
    "print(\"\\nОбучение LSTM модели...\")\n",
    "lstm_history = train_model(lstm_model, train_seq_loader, val_seq_loader, criterion, optimizer, epochs=30)"
   ]
  },
  {
   "cell_type": "code",
   "execution_count": 53,
   "id": "9d0e8e42-7db4-4555-936e-c781f9405d5e",
   "metadata": {},
   "outputs": [
    {
     "data": {
      "image/png": "[encoded data removed]",
      "text/plain": [
       "<Figure size 1200x500 with 2 Axes>"
      ]
     },
     "metadata": {},
     "output_type": "display_data"
    }
   ],
   "source": [
    "lstm_model.load_state_dict(torch.load('best_model.pth'))\n",
    "lstm_model.eval()\n",
    "\n",
    "plt.figure(figsize=(12, 5))\n",
    "plt.subplot(1, 2, 1)\n",
    "plt.plot(lstm_history['train_loss'], label='Train Loss', color='blue')\n",
    "plt.plot(lstm_history['val_loss'], label='Validation Loss', color='red')\n",
    "plt.xlabel('Epoch')\n",
    "plt.ylabel('Loss')\n",
    "plt.title('Training and Validation Loss (LSTM)')\n",
    "plt.legend()\n",
    "plt.grid(True)\n",
    "plt.subplot(1, 2, 2)\n",
    "plt.plot(lstm_history['val_f1'], label='Validation F1', color='purple')\n",
    "plt.xlabel('Epoch')\n",
    "plt.ylabel('F1 Score')\n",
    "plt.title('Validation F1 Score (LSTM)')\n",
    "plt.legend()\n",
    "plt.grid(True)\n",
    "plt.tight_layout()\n",
    "plt.show()"
   ]
  },
  {
   "cell_type": "markdown",
   "id": "8bbb3e6a-f706-486d-9294-28b1dd18a70c",
   "metadata": {},
   "source": [
    "Модель выдаёт хорошие результаты на вале около 0.915, однако на тесте результат около 0.78"
   ]
  },
  {
   "cell_type": "markdown",
   "id": "cc90eab4-88eb-4524-8f2e-77193fc63ef6",
   "metadata": {},
   "source": [
    "## эмбеддер + решение на bert-like моделях (лучшая модель)"
   ]
  },
  {
   "cell_type": "code",
   "execution_count": null,
   "id": "483b84cf-d9e2-4877-a5c9-ed2f9fcef2e2",
   "metadata": {},
   "outputs": [],
   "source": [
    "import os\n",
    "import re\n",
    "import numpy as np\n",
    "import pandas as pd\n",
    "import random\n",
    "import torch\n",
    "import torch.nn as nn\n",
    "import torch.optim as optim\n",
    "from torch.utils.data import Dataset, DataLoader\n",
    "from sklearn.feature_extraction.text import TfidfVectorizer\n",
    "from sklearn.model_selection import train_test_split\n",
    "from sklearn.metrics import classification_report\n",
    "from sklearn.metrics import classification_report, precision_score, recall_score, f1_score\n",
    "import nltk\n",
    "from nltk.corpus import stopwords\n",
    "from nltk.tokenize import word_tokenize\n",
    "import pymorphy2\n",
    "from snowballstemmer import RussianStemmer\n",
    "from tqdm import tqdm\n",
    "import matplotlib.pyplot as plt\n",
    "import torch.nn.functional as F\n",
    "from torch.optim.lr_scheduler import ReduceLROnPlateau\n",
    "tqdm.pandas()\n",
    "from transformers import BertTokenizer, BertModel, get_linear_schedule_with_warmup\n",
    "from torch.optim import AdamW "
   ]
  },
  {
   "cell_type": "code",
   "execution_count": null,
   "id": "fd15161f-37ab-44ec-b0cd-d8aa00bf6bc3",
   "metadata": {},
   "outputs": [],
   "source": [
    "df = pd.read_csv(\"train.csv\")\n",
    "df[\"labels\"] = df[\"labels\"].apply(lambda x: np.array(list(map(int, x.strip().split())), dtype=np.int64))\n",
    "train_df, val_df = train_test_split(df, test_size=0.2, random_state=42)\n",
    "device = torch.device('cuda' if torch.cuda.is_available() else 'cpu')\n",
    "print(f\"Using device: {device}\")\n",
    "def metric(y_true, y_pred):\n",
    "    return f1_score(y_true, y_pred, average='samples')\n",
    "test_df = pd.read_csv(\"test.csv\")"
   ]
  },
  {
   "cell_type": "code",
   "execution_count": null,
   "id": "508b1d09-7c70-4686-9c63-f334c958434a",
   "metadata": {},
   "outputs": [],
   "source": [
    "BERT_MODEL_NAME = 'bert-base-multilingual-cased'\n",
    "MAX_LEN = 128\n",
    "BATCH_SIZE = 16 \n",
    "tokenizer = BertTokenizer.from_pretrained(BERT_MODEL_NAME)"
   ]
  },
  {
   "cell_type": "code",
   "execution_count": null,
   "id": "26d45f8b-1875-4fc6-8b85-462c150092e4",
   "metadata": {},
   "outputs": [],
   "source": [
    "class BertDataset(Dataset):\n",
    "    def __init__(self, texts, labels=None):\n",
    "        self.texts = texts\n",
    "        self.labels = labels\n",
    "        self.has_labels = labels is not None\n",
    "\n",
    "    def __len__(self):\n",
    "        return len(self.texts)\n",
    "\n",
    "    def __getitem__(self, idx):\n",
    "        text = self.texts[idx]\n",
    "        encoding = tokenizer.encode_plus(\n",
    "            text,\n",
    "            add_special_tokens=True,\n",
    "            max_length=MAX_LEN,\n",
    "            padding='max_length',\n",
    "            truncation=True,\n",
    "            return_attention_mask=True,\n",
    "            return_tensors='pt',\n",
    "        )\n",
    "        \n",
    "        item = {\n",
    "            'input_ids': encoding['input_ids'].flatten(),\n",
    "            'attention_mask': encoding['attention_mask'].flatten()\n",
    "        }\n",
    "        \n",
    "        if self.has_labels:\n",
    "            item['labels'] = torch.FloatTensor(self.labels[idx])\n",
    "        \n",
    "        return item"
   ]
  },
  {
   "cell_type": "code",
   "execution_count": null,
   "id": "329bbc7b-6210-466c-8e2b-8f085bb636aa",
   "metadata": {},
   "outputs": [],
   "source": [
    "def create_data_loader(df, labels=None, shuffle=False):\n",
    "    dataset = BertDataset(\n",
    "        texts=df['processed_text'].to_numpy(),\n",
    "        labels=labels.values if labels is not None else None\n",
    "    )\n",
    "    return DataLoader(dataset, batch_size=BATCH_SIZE, shuffle=shuffle)\n",
    "\n",
    "def preprocess_text_for_bert(text):\n",
    "    \"\"\"Упрощённая предобработка для BERT (без стемминга/лемматизации)\"\"\"\n",
    "    text = text.lower()\n",
    "    text = re.sub(r'[^\\w\\s]', ' ', text)  \n",
    "    text = re.sub(r'\\s+', ' ', text).strip()  \n",
    "    return text"
   ]
  },
  {
   "cell_type": "code",
   "execution_count": null,
   "id": "137c8239-1c3f-4a00-a4a2-2fa84c1ab177",
   "metadata": {},
   "outputs": [],
   "source": [
    "train_df['processed_text'] = train_df['text'].progress_apply(preprocess_text_for_bert)\n",
    "val_df['processed_text'] = val_df['text'].progress_apply(preprocess_text_for_bert)\n",
    "test_df['processed_text'] = test_df['text'].progress_apply(preprocess_text_for_bert)\n",
    "\n",
    "train_loader = create_data_loader(train_df, train_df['labels'], shuffle=True)\n",
    "val_loader = create_data_loader(val_df, val_df['labels'])\n",
    "test_loader = create_data_loader(test_df)\n",
    "\n",
    "train_loader = create_data_loader(train_df, train_df['labels'], shuffle=True)\n",
    "val_loader = create_data_loader(val_df, val_df['labels'])\n",
    "test_loader = create_data_loader(test_df)"
   ]
  },
  {
   "cell_type": "code",
   "execution_count": null,
   "id": "ef400b7b-e3bc-4615-924f-8b13894b7a62",
   "metadata": {},
   "outputs": [],
   "source": [
    "class BertClassifier(nn.Module):\n",
    "    def __init__(self, num_classes):\n",
    "        super().__init__()\n",
    "        self.bert = BertModel.from_pretrained(BERT_MODEL_NAME)\n",
    "        self.dropout = nn.Dropout(0.3)\n",
    "        self.fc = nn.Linear(self.bert.config.hidden_size, num_classes)\n",
    "        \n",
    "        nn.init.xavier_normal_(self.fc.weight)\n",
    "        \n",
    "    def forward(self, input_ids, attention_mask):\n",
    "        outputs = self.bert(\n",
    "            input_ids=input_ids,\n",
    "            attention_mask=attention_mask\n",
    "        )\n",
    "        pooled_output = outputs.last_hidden_state[:, 0, :]  \n",
    "        x = self.dropout(pooled_output)\n",
    "        x = self.fc(x)\n",
    "        return torch.sigmoid(x) "
   ]
  },
  {
   "cell_type": "code",
   "execution_count": null,
   "id": "7b2b11fc-984a-4978-8145-752cf99cf2d9",
   "metadata": {},
   "outputs": [],
   "source": [
    "def train_bert_model(model, train_loader, val_loader, optimizer, scheduler, epochs=10):\n",
    "    best_f1 = 0.0\n",
    "    history = {'train_loss': [], 'val_loss': [], 'val_f1': []}\n",
    "    \n",
    "    for epoch in range(epochs):\n",
    "        model.train()\n",
    "        train_loss = 0.0\n",
    "        \n",
    "        for batch in tqdm(train_loader, desc=f\"Epoch {epoch+1}/{epochs}\"):\n",
    "            input_ids = batch['input_ids'].to(device)\n",
    "            attention_mask = batch['attention_mask'].to(device)\n",
    "            labels = batch['labels'].to(device)\n",
    "            \n",
    "            optimizer.zero_grad()\n",
    "            outputs = model(input_ids, attention_mask)\n",
    "            \n",
    "            if outputs.size() != labels.size():\n",
    "                print(f\"Размерности не совпадают: outputs {outputs.size()}, labels {labels.size()}\")\n",
    "                continue\n",
    "                \n",
    "            loss = F.binary_cross_entropy(outputs, labels)\n",
    "            loss.backward()\n",
    "            nn.utils.clip_grad_norm_(model.parameters(), max_norm=1.0)\n",
    "            optimizer.step()\n",
    "            scheduler.step()\n",
    "            train_loss += loss.item()\n",
    "        \n",
    "        model.eval()\n",
    "        val_loss = 0.0\n",
    "        all_preds = []\n",
    "        all_labels = []\n",
    "        \n",
    "        with torch.no_grad():\n",
    "            for batch in val_loader:\n",
    "                input_ids = batch['input_ids'].to(device)\n",
    "                attention_mask = batch['attention_mask'].to(device)\n",
    "                labels = batch['labels'].to(device)\n",
    "                \n",
    "                outputs = model(input_ids, attention_mask)\n",
    "                loss = F.binary_cross_entropy(outputs, labels)\n",
    "                val_loss += loss.item()\n",
    "                \n",
    "                preds = (outputs > 0.5).float()\n",
    "                all_preds.append(preds.cpu().numpy())\n",
    "                all_labels.append(labels.cpu().numpy())\n",
    "        \n",
    "        avg_train_loss = train_loss / len(train_loader)\n",
    "        avg_val_loss = val_loss / len(val_loader)\n",
    "        all_preds = np.concatenate(all_preds, axis=0)\n",
    "        all_labels = np.concatenate(all_labels, axis=0)\n",
    "        f1 = f1_score(all_labels, all_preds, average='samples')\n",
    "        \n",
    "        history['train_loss'].append(avg_train_loss)\n",
    "        history['val_loss'].append(avg_val_loss)\n",
    "        history['val_f1'].append(f1)\n",
    "        \n",
    "        print(f\"Epoch {epoch+1}/{epochs} | Train Loss: {avg_train_loss:.4f} | Val Loss: {avg_val_loss:.4f} | Val F1: {f1:.4f}\")\n",
    "        \n",
    "        if f1 > best_f1:\n",
    "            best_f1 = f1\n",
    "            torch.save(model.state_dict(), 'best_bert_model.pth')\n",
    "    \n",
    "    return history"
   ]
  },
  {
   "cell_type": "code",
   "execution_count": null,
   "id": "cf00d747-f283-44de-b58f-068131e0250e",
   "metadata": {},
   "outputs": [],
   "source": [
    "NUM_CLASSES = 20  \n",
    "model = BertClassifier(num_classes=NUM_CLASSES).to(device)\n",
    "optimizer = AdamW(model.parameters(), lr=2e-5)  \n",
    "total_steps = len(train_loader) * 10  \n",
    "scheduler = get_linear_schedule_with_warmup(\n",
    "    optimizer,\n",
    "    num_warmup_steps=0,\n",
    "    num_training_steps=total_steps\n",
    ")"
   ]
  },
  {
   "cell_type": "code",
   "execution_count": null,
   "id": "16419ed6-a471-4628-8a2d-f2de5bf852c1",
   "metadata": {},
   "outputs": [],
   "source": [
    "optimizer = AdamW(model.parameters(), lr=2e-5)\n",
    "scheduler = get_linear_schedule_with_warmup(\n",
    "    optimizer,\n",
    "    num_warmup_steps=100,\n",
    "    num_training_steps=len(train_loader)*10\n",
    ")\n",
    "    \n",
    "history = train_bert_model(\n",
    "    model=model,\n",
    "    train_loader=train_loader,\n",
    "    val_loader=val_loader,\n",
    "    optimizer=optimizer,\n",
    "    scheduler=scheduler,\n",
    "    epochs=10\n",
    ")\n",
    "    \n",
    "torch.save(model.state_dict(), 'bert_model_correct.pth')"
   ]
  },
  {
   "cell_type": "code",
   "execution_count": null,
   "id": "02c8ad58-fb50-4964-b5d9-ae6136d750a2",
   "metadata": {},
   "outputs": [],
   "source": [
    "test_id = test_df['id']\n",
    "model.load_state_dict(torch.load('bert_model_correct.pth'))\n",
    "model.eval()\n",
    "\n",
    "test_preds = []\n",
    "with torch.no_grad():\n",
    "    for batch in test_loader:\n",
    "        input_ids = batch['input_ids'].to(device)\n",
    "        attention_mask = batch['attention_mask'].to(device)\n",
    "        \n",
    "        outputs = model(input_ids, attention_mask)\n",
    "        preds = (outputs > 0.5).int()\n",
    "        test_preds.append(preds.cpu().numpy())\n",
    "\n",
    "test_preds = np.concatenate(test_preds, axis=0)\n",
    "\n",
    "results = pd.DataFrame({\n",
    "    'id': test_df['id'],\n",
    "    'labels': [' '.join(map(str, pred)) for pred in test_preds]\n",
    "})"
   ]
  },
  {
   "cell_type": "markdown",
   "id": "f01a857f-0efb-41e2-8ba9-4c0a59e0ff7c",
   "metadata": {},
   "source": [
    "Модель выдаёт на вале около 0.94, и 0.8319 на тесте"
   ]
  },
  {
   "cell_type": "markdown",
   "id": "f8c9084a-cb3d-4ede-94ac-ca519ccca895",
   "metadata": {},
   "source": [
    "## Путкт 4 "
   ]
  },
  {
   "cell_type": "code",
   "execution_count": null,
   "id": "eaaa09cf-638f-4f53-858c-66a65937df86",
   "metadata": {},
   "outputs": [],
   "source": [
    "import os\n",
    "import re\n",
    "import numpy as np\n",
    "import pandas as pd\n",
    "import random\n",
    "import torch\n",
    "import torch.nn as nn\n",
    "import torch.optim as optim\n",
    "from torch.utils.data import Dataset, DataLoader\n",
    "from sklearn.feature_extraction.text import TfidfVectorizer\n",
    "from sklearn.model_selection import train_test_split\n",
    "from sklearn.metrics import classification_report\n",
    "from sklearn.metrics import classification_report, precision_score, recall_score, f1_score\n",
    "import nltk\n",
    "from nltk.corpus import stopwords\n",
    "from nltk.tokenize import word_tokenize\n",
    "import pymorphy2\n",
    "from snowballstemmer import RussianStemmer\n",
    "from tqdm import tqdm\n",
    "import matplotlib.pyplot as plt\n",
    "import torch.nn.functional as F\n",
    "from torch.optim.lr_scheduler import ReduceLROnPlateau\n",
    "tqdm.pandas()\n",
    "from transformers import BertTokenizer, BertModel, get_linear_schedule_with_warmup\n",
    "from torch.optim import AdamW "
   ]
  },
  {
   "cell_type": "code",
   "execution_count": null,
   "id": "1735da69-b5dc-4fe3-a588-3328469c02b8",
   "metadata": {},
   "outputs": [],
   "source": [
    "df = pd.read_csv(\"train.csv\")\n",
    "df[\"labels\"] = df[\"labels\"].apply(lambda x: np.array(list(map(int, x.strip().split())), dtype=np.int64))\n",
    "train_df, val_df = train_test_split(df, test_size=0.2, random_state=42)\n",
    "device = torch.device('cuda' if torch.cuda.is_available() else 'cpu')\n",
    "print(f\"Using device: {device}\")\n",
    "def metric(y_true, y_pred):\n",
    "    return f1_score(y_true, y_pred, average='samples')\n",
    "test_df = pd.read_csv(\"test.csv\")"
   ]
  },
  {
   "cell_type": "code",
   "execution_count": null,
   "id": "261776da-fb38-41d4-b139-584413deddb1",
   "metadata": {},
   "outputs": [],
   "source": [
    "BERT_MODEL_NAME = 'bert-base-multilingual-cased'\n",
    "MAX_LEN = 128\n",
    "BATCH_SIZE = 16 \n",
    "tokenizer = BertTokenizer.from_pretrained(BERT_MODEL_NAME)"
   ]
  },
  {
   "cell_type": "code",
   "execution_count": null,
   "id": "0c2fd8b9-5a04-4b54-b13d-34d3a0b55fc4",
   "metadata": {},
   "outputs": [],
   "source": [
    "class BertDataset(Dataset):\n",
    "    def __init__(self, texts, labels=None):\n",
    "        self.texts = texts\n",
    "        self.labels = labels\n",
    "        self.has_labels = labels is not None\n",
    "\n",
    "    def __len__(self):\n",
    "        return len(self.texts)\n",
    "\n",
    "    def __getitem__(self, idx):\n",
    "        text = self.texts[idx]\n",
    "        encoding = tokenizer.encode_plus(\n",
    "            text,\n",
    "            add_special_tokens=True,\n",
    "            max_length=MAX_LEN,\n",
    "            padding='max_length',\n",
    "            truncation=True,\n",
    "            return_attention_mask=True,\n",
    "            return_tensors='pt',\n",
    "        )\n",
    "        \n",
    "        item = {\n",
    "            'input_ids': encoding['input_ids'].flatten(),\n",
    "            'attention_mask': encoding['attention_mask'].flatten()\n",
    "        }\n",
    "        \n",
    "        if self.has_labels:\n",
    "            item['labels'] = torch.FloatTensor(self.labels[idx])\n",
    "        \n",
    "        return item"
   ]
  },
  {
   "cell_type": "code",
   "execution_count": null,
   "id": "2412b87e-6406-4657-a28b-aa36e38273c7",
   "metadata": {},
   "outputs": [],
   "source": [
    "def create_data_loader(df, labels=None, shuffle=False):\n",
    "    dataset = BertDataset(\n",
    "        texts=df['processed_text'].to_numpy(),\n",
    "        labels=labels.values if labels is not None else None\n",
    "    )\n",
    "    return DataLoader(dataset, batch_size=BATCH_SIZE, shuffle=shuffle)\n",
    "\n",
    "def preprocess_text_for_bert(text):\n",
    "    \"\"\"Упрощённая предобработка для BERT (без стемминга/лемматизации)\"\"\"\n",
    "    text = text.lower()\n",
    "    text = re.sub(r'[^\\w\\s]', ' ', text)  \n",
    "    text = re.sub(r'\\s+', ' ', text).strip()  \n",
    "    return text"
   ]
  },
  {
   "cell_type": "code",
   "execution_count": null,
   "id": "4a8fa878-6f52-4381-af78-2b3dbab2b5c9",
   "metadata": {},
   "outputs": [],
   "source": [
    "train_df['processed_text'] = train_df['text'].progress_apply(preprocess_text_for_bert)\n",
    "val_df['processed_text'] = val_df['text'].progress_apply(preprocess_text_for_bert)\n",
    "test_df['processed_text'] = test_df['text'].progress_apply(preprocess_text_for_bert)\n",
    "\n",
    "train_loader = create_data_loader(train_df, train_df['labels'], shuffle=True)\n",
    "val_loader = create_data_loader(val_df, val_df['labels'])\n",
    "test_loader = create_data_loader(test_df)\n",
    "\n",
    "train_loader = create_data_loader(train_df, train_df['labels'], shuffle=True)\n",
    "val_loader = create_data_loader(val_df, val_df['labels'])\n",
    "test_loader = create_data_loader(test_df)"
   ]
  },
  {
   "cell_type": "code",
   "execution_count": null,
   "id": "61b42f69-5023-4ffc-a906-d819692a2e97",
   "metadata": {},
   "outputs": [],
   "source": [
    "def generate_synthetic_data_bert(original_df, num_samples=1000):\n",
    "    \"\"\"Генерация синтетических данных через перемешивание слов\"\"\"\n",
    "    synthetic_data = []\n",
    "    label_combinations = original_df['labels'].apply(tuple).value_counts(normalize=True)\n",
    "    \n",
    "    for _ in tqdm(range(num_samples), desc=\"Generating synthetic data\"):\n",
    "        random_label = np.random.choice(label_combinations.index, p=label_combinations.values)\n",
    "        class_examples = original_df[original_df['labels'].apply(tuple) == random_label]\n",
    "        \n",
    "        if len(class_examples) == 0:\n",
    "            continue\n",
    "            \n",
    "        example = class_examples.sample(1).iloc[0]\n",
    "        words = example['text'].split()\n",
    "        if len(words) > 1:\n",
    "            np.random.shuffle(words)\n",
    "            synthetic_text = ' '.join(words)\n",
    "        else:\n",
    "            synthetic_text = example['text']\n",
    "        \n",
    "        synthetic_data.append({\n",
    "            'text': synthetic_text,\n",
    "            'labels': example['labels'],\n",
    "            'processed_text': preprocess_text_for_bert(synthetic_text)\n",
    "        })\n",
    "    \n",
    "    return pd.DataFrame(synthetic_data)\n",
    "\n",
    "synthetic_df = generate_synthetic_data_bert(train_df, num_samples=1000)\n",
    "train_df = pd.concat([train_df, synthetic_df], ignore_index=True)"
   ]
  },
  {
   "cell_type": "code",
   "execution_count": null,
   "id": "0275faa8-6026-46b1-bb0d-1c806977937a",
   "metadata": {},
   "outputs": [],
   "source": [
    "class BertClassifier(nn.Module):\n",
    "    def __init__(self, num_classes):\n",
    "        super().__init__()\n",
    "        self.bert = BertModel.from_pretrained(BERT_MODEL_NAME)\n",
    "        self.dropout = nn.Dropout(0.3)\n",
    "        self.fc = nn.Linear(self.bert.config.hidden_size, num_classes)\n",
    "        \n",
    "        nn.init.xavier_normal_(self.fc.weight)\n",
    "        \n",
    "    def forward(self, input_ids, attention_mask):\n",
    "        outputs = self.bert(\n",
    "            input_ids=input_ids,\n",
    "            attention_mask=attention_mask\n",
    "        )\n",
    "        pooled_output = outputs.last_hidden_state[:, 0, :]  \n",
    "        x = self.dropout(pooled_output)\n",
    "        x = self.fc(x)\n",
    "        return torch.sigmoid(x) "
   ]
  },
  {
   "cell_type": "code",
   "execution_count": null,
   "id": "568b8f9c-1528-4125-a3f2-fbede6dd0273",
   "metadata": {},
   "outputs": [],
   "source": [
    "def train_bert_model(model, train_loader, val_loader, optimizer, scheduler, epochs=10):\n",
    "    best_f1 = 0.0\n",
    "    history = {'train_loss': [], 'val_loss': [], 'val_f1': []}\n",
    "    \n",
    "    for epoch in range(epochs):\n",
    "        model.train()\n",
    "        train_loss = 0.0\n",
    "        \n",
    "        for batch in tqdm(train_loader, desc=f\"Epoch {epoch+1}/{epochs}\"):\n",
    "            input_ids = batch['input_ids'].to(device)\n",
    "            attention_mask = batch['attention_mask'].to(device)\n",
    "            labels = batch['labels'].to(device)\n",
    "            \n",
    "            optimizer.zero_grad()\n",
    "            outputs = model(input_ids, attention_mask)\n",
    "            \n",
    "            if outputs.size() != labels.size():\n",
    "                print(f\"Размерности не совпадают: outputs {outputs.size()}, labels {labels.size()}\")\n",
    "                continue\n",
    "                \n",
    "            loss = F.binary_cross_entropy(outputs, labels)\n",
    "            loss.backward()\n",
    "            nn.utils.clip_grad_norm_(model.parameters(), max_norm=1.0)\n",
    "            optimizer.step()\n",
    "            scheduler.step()\n",
    "            train_loss += loss.item()\n",
    "        \n",
    "        model.eval()\n",
    "        val_loss = 0.0\n",
    "        all_preds = []\n",
    "        all_labels = []\n",
    "        \n",
    "        with torch.no_grad():\n",
    "            for batch in val_loader:\n",
    "                input_ids = batch['input_ids'].to(device)\n",
    "                attention_mask = batch['attention_mask'].to(device)\n",
    "                labels = batch['labels'].to(device)\n",
    "                \n",
    "                outputs = model(input_ids, attention_mask)\n",
    "                loss = F.binary_cross_entropy(outputs, labels)\n",
    "                val_loss += loss.item()\n",
    "                \n",
    "                preds = (outputs > 0.5).float()\n",
    "                all_preds.append(preds.cpu().numpy())\n",
    "                all_labels.append(labels.cpu().numpy())\n",
    "        \n",
    "        avg_train_loss = train_loss / len(train_loader)\n",
    "        avg_val_loss = val_loss / len(val_loader)\n",
    "        all_preds = np.concatenate(all_preds, axis=0)\n",
    "        all_labels = np.concatenate(all_labels, axis=0)\n",
    "        f1 = f1_score(all_labels, all_preds, average='samples')\n",
    "        \n",
    "        history['train_loss'].append(avg_train_loss)\n",
    "        history['val_loss'].append(avg_val_loss)\n",
    "        history['val_f1'].append(f1)\n",
    "        \n",
    "        print(f\"Epoch {epoch+1}/{epochs} | Train Loss: {avg_train_loss:.4f} | Val Loss: {avg_val_loss:.4f} | Val F1: {f1:.4f}\")\n",
    "        \n",
    "        if f1 > best_f1:\n",
    "            best_f1 = f1\n",
    "            torch.save(model.state_dict(), 'best_bert_model.pth')\n",
    "    \n",
    "    return history"
   ]
  },
  {
   "cell_type": "code",
   "execution_count": null,
   "id": "84aa3a37-3ce5-4b4c-9065-1227695b0dc0",
   "metadata": {},
   "outputs": [],
   "source": [
    "NUM_CLASSES = 20  \n",
    "model = BertClassifier(num_classes=NUM_CLASSES).to(device)\n",
    "optimizer = AdamW(model.parameters(), lr=2e-5)  \n",
    "total_steps = len(train_loader) * 10  \n",
    "scheduler = get_linear_schedule_with_warmup(\n",
    "    optimizer,\n",
    "    num_warmup_steps=0,\n",
    "    num_training_steps=total_steps\n",
    ")"
   ]
  },
  {
   "cell_type": "code",
   "execution_count": null,
   "id": "c2fc9134-34a3-4655-84de-c9d0aae0ebd8",
   "metadata": {},
   "outputs": [],
   "source": [
    "optimizer = AdamW(model.parameters(), lr=2e-5)\n",
    "scheduler = get_linear_schedule_with_warmup(\n",
    "    optimizer,\n",
    "    num_warmup_steps=100,\n",
    "    num_training_steps=len(train_loader)*10\n",
    ")\n",
    "    \n",
    "history = train_bert_model(\n",
    "    model=model,\n",
    "    train_loader=train_loader,\n",
    "    val_loader=val_loader,\n",
    "    optimizer=optimizer,\n",
    "    scheduler=scheduler,\n",
    "    epochs=10\n",
    ")\n",
    "    \n",
    "torch.save(model.state_dict(), 'bert_model_correct.pth')"
   ]
  },
  {
   "cell_type": "code",
   "execution_count": null,
   "id": "1c13bbb6-8bf2-40ce-890f-6265401a8c6c",
   "metadata": {},
   "outputs": [],
   "source": [
    "test_id = test_df['id']\n",
    "model.load_state_dict(torch.load('bert_model_correct.pth'))\n",
    "model.eval()\n",
    "\n",
    "test_preds = []\n",
    "with torch.no_grad():\n",
    "    for batch in test_loader:\n",
    "        input_ids = batch['input_ids'].to(device)\n",
    "        attention_mask = batch['attention_mask'].to(device)\n",
    "        \n",
    "        outputs = model(input_ids, attention_mask)\n",
    "        preds = (outputs > 0.5).int()\n",
    "        test_preds.append(preds.cpu().numpy())\n",
    "\n",
    "test_preds = np.concatenate(test_preds, axis=0)\n",
    "\n",
    "results = pd.DataFrame({\n",
    "    'id': test_df['id'],\n",
    "    'labels': [' '.join(map(str, pred)) for pred in test_preds]\n",
    "})"
   ]
  },
  {
   "cell_type": "markdown",
   "id": "3883b0cb-db27-4684-bc78-1a97f06808a1",
   "metadata": {},
   "source": [
    "Эту модель я не успел обучить до закрытия кагла, так что сделать вывод об эффективности модели на тесте не могу "
   ]
  }
 ],
 "metadata": {
  "kernelspec": {
   "display_name": "Python 3 (ipykernel)",
   "language": "python",
   "name": "python3"
  },
  "language_info": {
   "codemirror_mode": {
    "name": "ipython",
    "version": 3
   },
   "file_extension": ".py",
   "mimetype": "text/x-python",
   "name": "python",
   "nbconvert_exporter": "python",
   "pygments_lexer": "ipython3",
   "version": "3.11.7"
  }
 },
 "nbformat": 4,
 "nbformat_minor": 5
}
