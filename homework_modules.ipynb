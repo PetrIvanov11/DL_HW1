{
 "cells": [
  {
   "cell_type": "code",
   "execution_count": 1,
   "metadata": {
    "id": "3MeKai5Xj6eX"
   },
   "outputs": [],
   "source": [
    "import numpy as np\n",
    "import torch\n",
    "from sklearn.datasets import make_regression \n",
    "from sklearn.model_selection import train_test_split\n",
    "import matplotlib.pyplot as plt\n",
    "from sklearn.metrics import r2_score"
   ]
  },
  {
   "cell_type": "markdown",
   "metadata": {
    "id": "wwlFrG-Tj6eY"
   },
   "source": [
    "**Module** is an abstract class which defines fundamental methods necessary for a training a neural network. You do not need to change anything here, just read the comments."
   ]
  },
  {
   "cell_type": "code",
   "execution_count": 3,
   "metadata": {
    "id": "W8BLmtZ3j6eZ"
   },
   "outputs": [],
   "source": [
    "class Module(object):\n",
    "    \"\"\"\n",
    "    Basically, you can think of a module as of a something (black box)\n",
    "    which can process `input` data and produce `ouput` data.\n",
    "    This is like applying a function which is called `forward`:\n",
    "\n",
    "        output = module.forward(input)\n",
    "\n",
    "    The module should be able to perform a backward pass: to differentiate the `forward` function.\n",
    "    More, it should be able to differentiate it if is a part of chain (chain rule).\n",
    "    The latter implies there is a gradient from previous step of a chain rule.\n",
    "\n",
    "        gradInput = module.backward(input, gradOutput)\n",
    "    \"\"\"\n",
    "    def __init__ (self):\n",
    "        self.output = None\n",
    "        self.gradInput = None\n",
    "        self.training = True\n",
    "\n",
    "    def forward(self, input):\n",
    "        \"\"\"\n",
    "        Takes an input object, and computes the corresponding output of the module.\n",
    "        \"\"\"\n",
    "        return self.updateOutput(input)\n",
    "\n",
    "    def backward(self,input, gradOutput):\n",
    "        \"\"\"\n",
    "        Performs a backpropagation step through the module, with respect to the given input.\n",
    "\n",
    "        This includes\n",
    "         - computing a gradient w.r.t. `input` (is needed for further backprop),\n",
    "         - computing a gradient w.r.t. parameters (to update parameters while optimizing).\n",
    "        \"\"\"\n",
    "        self.updateGradInput(input, gradOutput)\n",
    "        self.accGradParameters(input, gradOutput)\n",
    "        return self.gradInput\n",
    "\n",
    "\n",
    "    def updateOutput(self, input):\n",
    "        \"\"\"\n",
    "        Computes the output using the current parameter set of the class and input.\n",
    "        This function returns the result which is stored in the `output` field.\n",
    "\n",
    "        Make sure to both store the data in `output` field and return it.\n",
    "        \"\"\"\n",
    "\n",
    "        # The easiest case:\n",
    "\n",
    "        # self.output = input\n",
    "        # return self.output\n",
    "\n",
    "        pass\n",
    "\n",
    "    def updateGradInput(self, input, gradOutput):\n",
    "        \"\"\"\n",
    "        Computing the gradient of the module with respect to its own input.\n",
    "        This is returned in `gradInput`. Also, the `gradInput` state variable is updated accordingly.\n",
    "\n",
    "        The shape of `gradInput` is always the same as the shape of `input`.\n",
    "\n",
    "        Make sure to both store the gradients in `gradInput` field and return it.\n",
    "        \"\"\"\n",
    "\n",
    "        # The easiest case:\n",
    "\n",
    "        # self.gradInput = gradOutput\n",
    "        # return self.gradInput\n",
    "\n",
    "        pass\n",
    "\n",
    "    def accGradParameters(self, input, gradOutput):\n",
    "        \"\"\"\n",
    "        Computing the gradient of the module with respect to its own parameters.\n",
    "        No need to override if module has no parameters (e.g. ReLU).\n",
    "        \"\"\"\n",
    "        pass\n",
    "\n",
    "    def zeroGradParameters(self):\n",
    "        \"\"\"\n",
    "        Zeroes `gradParams` variable if the module has params.\n",
    "        \"\"\"\n",
    "        pass\n",
    "\n",
    "    def getParameters(self):\n",
    "        \"\"\"\n",
    "        Returns a list with its parameters.\n",
    "        If the module does not have parameters return empty list.\n",
    "        \"\"\"\n",
    "        return []\n",
    "\n",
    "    def getGradParameters(self):\n",
    "        \"\"\"\n",
    "        Returns a list with gradients with respect to its parameters.\n",
    "        If the module does not have parameters return empty list.\n",
    "        \"\"\"\n",
    "        return []\n",
    "\n",
    "    def train(self):\n",
    "        \"\"\"\n",
    "        Sets training mode for the module.\n",
    "        Training and testing behaviour differs for Dropout, BatchNorm.\n",
    "        \"\"\"\n",
    "        self.training = True\n",
    "\n",
    "    def evaluate(self):\n",
    "        \"\"\"\n",
    "        Sets evaluation mode for the module.\n",
    "        Training and testing behaviour differs for Dropout, BatchNorm.\n",
    "        \"\"\"\n",
    "        self.training = False\n",
    "\n",
    "    def __repr__(self):\n",
    "        \"\"\"\n",
    "        Pretty printing. Should be overrided in every module if you want\n",
    "        to have readable description.\n",
    "        \"\"\"\n",
    "        return \"Module\""
   ]
  },
  {
   "cell_type": "markdown",
   "metadata": {
    "id": "mKRkIjT8j6eZ"
   },
   "source": [
    "# Sequential container"
   ]
  },
  {
   "cell_type": "markdown",
   "metadata": {
    "id": "Cb98PPpJj6ea"
   },
   "source": [
    "**Define** a forward and backward pass procedures."
   ]
  },
  {
   "cell_type": "code",
   "execution_count": 6,
   "metadata": {
    "id": "7y2lav4dj6ea"
   },
   "outputs": [],
   "source": [
    "class Sequential(Module):\n",
    "    \"\"\"\n",
    "         This class implements a container, which processes `input` data sequentially.\n",
    "\n",
    "         `input` is processed by each module (layer) in self.modules consecutively.\n",
    "         The resulting array is called `output`.\n",
    "    \"\"\"\n",
    "\n",
    "    def __init__ (self):\n",
    "        super(Sequential, self).__init__()\n",
    "        self.modules = []\n",
    "        self.layer_inputs = []\n",
    "\n",
    "    def add(self, module):\n",
    "        \"\"\"\n",
    "        Adds a module to the container.\n",
    "        \"\"\"\n",
    "        self.modules.append(module)\n",
    "\n",
    "    def updateOutput(self, input):\n",
    "        \"\"\"\n",
    "        Basic workflow of FORWARD PASS:\n",
    "\n",
    "            y_0    = module[0].forward(input)\n",
    "            y_1    = module[1].forward(y_0)\n",
    "            ...\n",
    "            output = module[n-1].forward(y_{n-2})\n",
    "\n",
    "\n",
    "        Just write a little loop.\n",
    "        \"\"\"\n",
    "        # Your code goes here. ################################################\n",
    "        self.layer_inputs = [input] \n",
    "        current_input = input\n",
    "        for module in self.modules:\n",
    "            current_input = module.forward(current_input)\n",
    "            self.layer_inputs.append(current_input)  \n",
    "        self.output = current_input\n",
    "        return self.output\n",
    "\n",
    "    def backward(self, input, gradOutput):\n",
    "        \"\"\"\n",
    "        Workflow of BACKWARD PASS:\n",
    "\n",
    "            g_{n-1} = module[n-1].backward(y_{n-2}, gradOutput)\n",
    "            g_{n-2} = module[n-2].backward(y_{n-3}, g_{n-1})\n",
    "            ...\n",
    "            g_1 = module[1].backward(y_0, g_2)\n",
    "            gradInput = module[0].backward(input, g_1)\n",
    "\n",
    "\n",
    "        !!!\n",
    "\n",
    "        To ech module you need to provide the input, module saw while forward pass,\n",
    "        it is used while computing gradients.\n",
    "        Make sure that the input for `i-th` layer the output of `module[i]` (just the same input as in forward pass)\n",
    "        and NOT `input` to this Sequential module.\n",
    "\n",
    "        !!!\n",
    "\n",
    "        \"\"\"\n",
    "        # Your code goes here. ################################################\n",
    "        current_grad = gradOutput\n",
    "        for i in range(len(self.modules)-1, -1, -1):\n",
    "            module = self.modules[i]\n",
    "            module_input = self.layer_inputs[i] \n",
    "            current_grad = module.backward(module_input, current_grad)\n",
    "        self.gradInput = current_grad\n",
    "        \n",
    "        return self.gradInput\n",
    "\n",
    "\n",
    "    def zeroGradParameters(self):\n",
    "        for module in self.modules:\n",
    "            module.zeroGradParameters()\n",
    "\n",
    "    def getParameters(self):\n",
    "        \"\"\"\n",
    "        Should gather all parameters in a list.\n",
    "        \"\"\"\n",
    "        return [x.getParameters() for x in self.modules]\n",
    "\n",
    "    def getGradParameters(self):\n",
    "        \"\"\"\n",
    "        Should gather all gradients w.r.t parameters in a list.\n",
    "        \"\"\"\n",
    "        return [x.getGradParameters() for x in self.modules]\n",
    "\n",
    "    def __repr__(self):\n",
    "        string = \"\".join([str(x) + '\\n' for x in self.modules])\n",
    "        return string\n",
    "\n",
    "    def __getitem__(self,x):\n",
    "        return self.modules.__getitem__(x)\n",
    "\n",
    "    def train(self):\n",
    "        \"\"\"\n",
    "        Propagates training parameter through all modules\n",
    "        \"\"\"\n",
    "        self.training = True\n",
    "        for module in self.modules:\n",
    "            module.train()\n",
    "\n",
    "    def evaluate(self):\n",
    "        \"\"\"\n",
    "        Propagates training parameter through all modules\n",
    "        \"\"\"\n",
    "        self.training = False\n",
    "        for module in self.modules:\n",
    "            module.evaluate()"
   ]
  },
  {
   "cell_type": "markdown",
   "metadata": {
    "id": "zfXdYfO4j6ea"
   },
   "source": [
    "# Layers"
   ]
  },
  {
   "cell_type": "markdown",
   "metadata": {
    "id": "ZuwvBkuNj6ea"
   },
   "source": [
    "## 1 (0.2). Linear transform layer\n",
    "Also known as dense layer, fully-connected layer, FC-layer, InnerProductLayer (in caffe), affine transform\n",
    "- input:   **`batch_size x n_feats1`**\n",
    "- output: **`batch_size x n_feats2`**"
   ]
  },
  {
   "cell_type": "code",
   "execution_count": 9,
   "metadata": {
    "id": "D0uoyqkpj6ea"
   },
   "outputs": [],
   "source": [
    "class Linear(Module):\n",
    "    \"\"\"\n",
    "    A module which applies a linear transformation\n",
    "    A common name is fully-connected layer, InnerProductLayer in caffe.\n",
    "\n",
    "    The module should work with 2D input of shape (n_samples, n_feature).\n",
    "    \"\"\"\n",
    "    def __init__(self, n_in, n_out):\n",
    "        super(Linear, self).__init__()\n",
    "\n",
    "        # This is a nice initialization\n",
    "        stdv = 1./np.sqrt(n_in)\n",
    "        self.W = np.random.uniform(-stdv, stdv, size = (n_out, n_in))\n",
    "        self.b = np.random.uniform(-stdv, stdv, size = n_out)\n",
    "\n",
    "        self.gradW = np.zeros_like(self.W)\n",
    "        self.gradb = np.zeros_like(self.b)\n",
    "\n",
    "    def updateOutput(self, input):\n",
    "        # Your code goes here. ################################################\n",
    "        # self.output = ...\n",
    "        self.output = np.dot(input, self.W.T) + self.b\n",
    "        return self.output\n",
    "\n",
    "    def updateGradInput(self, input, gradOutput):\n",
    "        # Your code goes here. ################################################\n",
    "        # self.gradInput = ...\n",
    "        self.gradInput = np.dot(gradOutput, self.W)\n",
    "        return self.gradInput\n",
    "\n",
    "    def accGradParameters(self, input, gradOutput):\n",
    "        # Your code goes here. ################################################\n",
    "        # self.gradW = ... ; self.gradb = ...\n",
    "        self.gradW += np.dot(gradOutput.T, input)\n",
    "        self.gradb += gradOutput.sum(axis=0)\n",
    "        pass\n",
    "\n",
    "    def zeroGradParameters(self):\n",
    "        self.gradW.fill(0)\n",
    "        self.gradb.fill(0)\n",
    "\n",
    "    def getParameters(self):\n",
    "        return [self.W, self.b]\n",
    "\n",
    "    def getGradParameters(self):\n",
    "        return [self.gradW, self.gradb]\n",
    "\n",
    "    def __repr__(self):\n",
    "        s = self.W.shape\n",
    "        q = 'Linear %d -> %d' %(s[1],s[0])\n",
    "        return q"
   ]
  },
  {
   "cell_type": "markdown",
   "metadata": {
    "id": "tNOnHXZJj6eb"
   },
   "source": [
    "## 2. (0.2) SoftMax\n",
    "- input:   **`batch_size x n_feats`**\n",
    "- output: **`batch_size x n_feats`**\n",
    "\n",
    "$\\text{softmax}(x)_i = \\frac{\\exp x_i} {\\sum_j \\exp x_j}$\n",
    "\n",
    "Recall that $\\text{softmax}(x) == \\text{softmax}(x - \\text{const})$. It makes possible to avoid computing exp() from large argument."
   ]
  },
  {
   "cell_type": "code",
   "execution_count": 11,
   "metadata": {
    "id": "VIValI0hj6eb"
   },
   "outputs": [],
   "source": [
    "class SoftMax(Module):\n",
    "    def __init__(self):\n",
    "         super(SoftMax, self).__init__()\n",
    "\n",
    "    def updateOutput(self, input):\n",
    "        # start with normalization for numerical stability\n",
    "        self.output = np.subtract(input, input.max(axis=1, keepdims=True))\n",
    "\n",
    "        # Your code goes here. ################################################\n",
    "        self.output = np.exp(self.output) / np.sum(np.exp(self.output), axis=1, keepdims=True)\n",
    "        return self.output\n",
    "\n",
    "    def updateGradInput(self, input, gradOutput):\n",
    "        # Your code goes here. ################################################\n",
    "        sum_SM = np.sum(self.output * gradOutput, axis=1, keepdims=True)\n",
    "        self.gradInput = self.output * (gradOutput - sum_SM)\n",
    "        return self.gradInput\n",
    "\n",
    "    def __repr__(self):\n",
    "        return \"SoftMax\""
   ]
  },
  {
   "cell_type": "markdown",
   "metadata": {
    "id": "Cy3DJjynj6eb"
   },
   "source": [
    "## 3. (0.2) LogSoftMax\n",
    "- input:   **`batch_size x n_feats`**\n",
    "- output: **`batch_size x n_feats`**\n",
    "\n",
    "$\\text{logsoftmax}(x)_i = \\log\\text{softmax}(x)_i = x_i - \\log {\\sum_j \\exp x_j}$\n",
    "\n",
    "The main goal of this layer is to be used in computation of log-likelihood loss."
   ]
  },
  {
   "cell_type": "code",
   "execution_count": 13,
   "metadata": {
    "id": "Xo7DRdAJj6eb"
   },
   "outputs": [],
   "source": [
    "class LogSoftMax(Module):\n",
    "    def __init__(self):\n",
    "         super(LogSoftMax, self).__init__()\n",
    "\n",
    "    def updateOutput(self, input):\n",
    "        # start with normalization for numerical stability\n",
    "        self.output = np.subtract(input, input.max(axis=1, keepdims=True))\n",
    "\n",
    "        # Your code goes here. ################################################\n",
    "        self.output -= np.log(np.sum(np.exp(self.output), axis=1, keepdims=True))\n",
    "        return self.output\n",
    "\n",
    "    def updateGradInput(self, input, gradOutput):\n",
    "        # Your code goes here. ################################################\n",
    "\n",
    "        self.gradInput = gradOutput - np.exp(self.output) * np.sum(gradOutput, axis=1, keepdims=True)\n",
    "        return self.gradInput\n",
    "\n",
    "    def __repr__(self):\n",
    "        return \"LogSoftMax\""
   ]
  },
  {
   "cell_type": "markdown",
   "metadata": {
    "id": "QP5QdmmPj6eb"
   },
   "source": [
    "## 4. (0.3) Batch normalization\n",
    "One of the most significant recent ideas that impacted NNs a lot is [**Batch normalization**](http://arxiv.org/abs/1502.03167). The idea is simple, yet effective: the features should be whitened ($mean = 0$, $std = 1$) all the way through NN. This improves the convergence for deep models letting it train them for days but not weeks. **You are** to implement the first part of the layer: features normalization. The second part (`ChannelwiseScaling` layer) is implemented below.\n",
    "\n",
    "- input:   **`batch_size x n_feats`**\n",
    "- output: **`batch_size x n_feats`**\n",
    "\n",
    "The layer should work as follows. While training (`self.training == True`) it transforms input as $$y = \\frac{x - \\mu}  {\\sqrt{\\sigma + \\epsilon}}$$\n",
    "where $\\mu$ and $\\sigma$ - mean and variance of feature values in **batch** and $\\epsilon$ is just a small number for numericall stability. Also during training, layer should maintain exponential moving average values for mean and variance:\n",
    "```\n",
    "    self.moving_mean = self.moving_mean * alpha + batch_mean * (1 - alpha)\n",
    "    self.moving_variance = self.moving_variance * alpha + batch_variance * (1 - alpha)\n",
    "```\n",
    "During testing (`self.training == False`) the layer normalizes input using moving_mean and moving_variance.\n",
    "\n",
    "Note that decomposition of batch normalization on normalization itself and channelwise scaling here is just a common **implementation** choice. In general \"batch normalization\" always assumes normalization + scaling."
   ]
  },
  {
   "cell_type": "code",
   "execution_count": 15,
   "metadata": {
    "id": "fGTTDqVgj6eb"
   },
   "outputs": [],
   "source": [
    "class BatchNormalization(Module):\n",
    "    EPS = 1e-3\n",
    "    def __init__(self, alpha = 0.):\n",
    "        super(BatchNormalization, self).__init__()\n",
    "        self.alpha = alpha\n",
    "        self.moving_mean = None\n",
    "        self.moving_variance = None\n",
    "\n",
    "    def updateOutput(self, input):\n",
    "        # Your code goes here. ################################################\n",
    "        # use self.EPS please\n",
    "        if self.training:\n",
    "            mean = np.mean(input, axis=0)\n",
    "            variance = np.var(input, axis=0)\n",
    "            self.output = (input - mean) / np.sqrt(variance + self.EPS)\n",
    "            if self.moving_mean is None:\n",
    "                self.moving_mean = mean\n",
    "                self.moving_variance = variance\n",
    "            else:\n",
    "                self.moving_mean = self.moving_mean * self.alpha + mean * (1 - self.alpha)\n",
    "                self.moving_variance = self.moving_variance * self.alpha + variance * (1 - self.alpha)\n",
    "        else:\n",
    "            assert self.moving_mean is not None and self.moving_variance is not None\n",
    "            self.output = (input - self.moving_mean) / np.sqrt(self.moving_variance + self.EPS)\n",
    "        return self.output\n",
    "\n",
    "    def updateGradInput(self, input, gradOutput):\n",
    "        # Your code goes here. ################################################\n",
    "        if self.training:\n",
    "            mean = np.mean(input, axis=0)\n",
    "            variance = np.var(input, axis=0)\n",
    "            n = input.shape[0]\n",
    "            dvar = np.sum(gradOutput * (input - mean) * (-0.5) * \n",
    "                     (variance + self.EPS)**(-1.5), axis=0)\n",
    "        \n",
    "            dmean = np.sum(gradOutput * (-1) / np.sqrt(variance + self.EPS), axis=0) + \\\n",
    "                   dvar * (-2) * np.mean(input - mean, axis=0)\n",
    "        \n",
    "            self.gradInput = (gradOutput / np.sqrt(variance + self.EPS) +\n",
    "                         dvar * 2 * (input - mean) / n +\n",
    "                         dmean / n)\n",
    "        else:\n",
    "            self.gradInput = gradOutput / np.sqrt(self.moving_variance + self.EPS)\n",
    "        \n",
    "        return self.gradInput\n",
    "\n",
    "    def __repr__(self):\n",
    "        return \"BatchNormalization\""
   ]
  },
  {
   "cell_type": "code",
   "execution_count": 16,
   "metadata": {
    "id": "8XUS3Lt-j6eb"
   },
   "outputs": [],
   "source": [
    "class ChannelwiseScaling(Module):\n",
    "    \"\"\"\n",
    "       Implements linear transform of input y = \\gamma * x + \\beta\n",
    "       where \\gamma, \\beta - learnable vectors of length x.shape[-1]\n",
    "    \"\"\"\n",
    "    def __init__(self, n_out):\n",
    "        super(ChannelwiseScaling, self).__init__()\n",
    "\n",
    "        stdv = 1./np.sqrt(n_out)\n",
    "        self.gamma = np.random.uniform(-stdv, stdv, size=n_out)\n",
    "        self.beta = np.random.uniform(-stdv, stdv, size=n_out)\n",
    "\n",
    "        self.gradGamma = np.zeros_like(self.gamma)\n",
    "        self.gradBeta = np.zeros_like(self.beta)\n",
    "\n",
    "    def updateOutput(self, input):\n",
    "        self.output = input * self.gamma + self.beta\n",
    "        return self.output\n",
    "\n",
    "    def updateGradInput(self, input, gradOutput):\n",
    "        self.gradInput = gradOutput * self.gamma\n",
    "        return self.gradInput\n",
    "\n",
    "    def accGradParameters(self, input, gradOutput):\n",
    "        self.gradBeta = np.sum(gradOutput, axis=0)\n",
    "        self.gradGamma = np.sum(gradOutput*input, axis=0)\n",
    "\n",
    "    def zeroGradParameters(self):\n",
    "        self.gradGamma.fill(0)\n",
    "        self.gradBeta.fill(0)\n",
    "\n",
    "    def getParameters(self):\n",
    "        return [self.gamma, self.beta]\n",
    "\n",
    "    def getGradParameters(self):\n",
    "        return [self.gradGamma, self.gradBeta]\n",
    "\n",
    "    def __repr__(self):\n",
    "        return \"ChannelwiseScaling\""
   ]
  },
  {
   "cell_type": "markdown",
   "metadata": {
    "id": "vA5zjM3jj6eb"
   },
   "source": [
    "Practical notes. If BatchNormalization is placed after a linear transformation layer (including dense layer, convolutions, channelwise scaling) that implements function like `y = weight * x + bias`, than bias adding become useless and could be omitted since its effect will be discarded while batch mean subtraction. If BatchNormalization (followed by `ChannelwiseScaling`) is placed before a layer that propagates scale (including ReLU, LeakyReLU) followed by any linear transformation layer than parameter `gamma` in `ChannelwiseScaling` could be freezed since it could be absorbed into the linear transformation layer."
   ]
  },
  {
   "cell_type": "markdown",
   "metadata": {
    "id": "Gackeo1cj6eb"
   },
   "source": [
    "## 5. (0.3) Dropout\n",
    "Implement [**dropout**](https://www.cs.toronto.edu/~hinton/absps/JMLRdropout.pdf). The idea and implementation is really simple: just multimply the input by $Bernoulli(p)$ mask. Here $p$ is probability of an element to be zeroed.\n",
    "\n",
    "This has proven to be an effective technique for regularization and preventing the co-adaptation of neurons.\n",
    "\n",
    "While training (`self.training == True`) it should sample a mask on each iteration (for every batch), zero out elements and multiply elements by $1 / (1 - p)$. The latter is needed for keeping mean values of features close to mean values which will be in test mode. When testing this module should implement identity transform i.e. `self.output = input`.\n",
    "\n",
    "- input:   **`batch_size x n_feats`**\n",
    "- output: **`batch_size x n_feats`**"
   ]
  },
  {
   "cell_type": "code",
   "execution_count": 19,
   "metadata": {
    "id": "NmLQV3jXj6eb"
   },
   "outputs": [],
   "source": [
    "class Dropout(Module):\n",
    "    def __init__(self, p=0.5):\n",
    "        super(Dropout, self).__init__()\n",
    "\n",
    "        self.p = p\n",
    "        self.mask = None\n",
    "\n",
    "    def updateOutput(self, input):\n",
    "        # Your code goes here. ################################################\n",
    "        if self.training:\n",
    "            self.mask = (np.random.rand(*input.shape) > self.p).astype(float)\n",
    "            self.output = input * self.mask / (1.0 - self.p)\n",
    "        else:\n",
    "            self.output = input\n",
    "        return  self.output\n",
    "\n",
    "    def updateGradInput(self, input, gradOutput):\n",
    "        # Your code goes here. ################################################\n",
    "        if self.training:\n",
    "            self.gradInput = gradOutput * self.mask / (1.0 - self.p)\n",
    "        else:\n",
    "            self.gradInput = gradOutput\n",
    "        return self.gradInput\n",
    "\n",
    "    def __repr__(self):\n",
    "        return \"Dropout\""
   ]
  },
  {
   "cell_type": "markdown",
   "metadata": {
    "id": "-WHGIqJFlhz2"
   },
   "source": [
    "#6. (2.0) Conv2d\n",
    "Implement [**Conv2d**](https://pytorch.org/docs/stable/generated/torch.nn.Conv2d.html). Use only this list of parameters: (in_channels, out_channels, kernel_size, stride, padding, bias, padding_mode) and fix dilation=1 and groups=1."
   ]
  },
  {
   "cell_type": "code",
   "execution_count": 21,
   "metadata": {
    "id": "c1RjNoEXlOHP"
   },
   "outputs": [],
   "source": [
    "class Conv2d(Module):\n",
    "    def __init__(self, in_channels, out_channels, kernel_size,\n",
    "                 stride=1, padding=0, bias=True, padding_mode='zeros'):\n",
    "        super(Conv2d, self).__init__()\n",
    "\n",
    "        self.in_channels = in_channels\n",
    "        self.out_channels = out_channels\n",
    "        self.kernel_size = kernel_size\n",
    "        self.stride = stride\n",
    "        self.padding = padding\n",
    "        self.bias = bias\n",
    "        self.padding_mode = padding_mode\n",
    "\n",
    "    def updateOutput(self, input):\n",
    "        # Your code goes here. ################################################\n",
    "        return  self.output\n",
    "\n",
    "    def updateGradInput(self, input, gradOutput):\n",
    "        # Your code goes here. ################################################\n",
    "        return self.gradInput\n",
    "\n",
    "    def __repr__(self):\n",
    "        return \"Conv2d\""
   ]
  },
  {
   "cell_type": "markdown",
   "metadata": {
    "id": "updUVZE9qixP"
   },
   "source": [
    "#7. (0.5) Implement [**MaxPool2d**](https://pytorch.org/docs/stable/generated/torch.nn.MaxPool2d.html) and [**AvgPool2d**](https://pytorch.org/docs/stable/generated/torch.nn.AvgPool2d.html). Use only parameters like kernel_size, stride, padding (negative infinity for maxpool and zero for avgpool) and other parameters fixed as in framework."
   ]
  },
  {
   "cell_type": "code",
   "execution_count": 23,
   "metadata": {
    "id": "Qys58EzkqhLj"
   },
   "outputs": [],
   "source": [
    "class MaxPool2d(Module):\n",
    "    def __init__(self, kernel_size, stride, padding):\n",
    "        super(MaxPool2d, self).__init__()\n",
    "\n",
    "        self.kernel_size = kernel_size\n",
    "        self.stride = stride\n",
    "        self.padding = padding\n",
    "\n",
    "    def updateOutput(self, input):\n",
    "        # Your code goes here. ################################################\n",
    "        if isinstance(input, np.ndarray):\n",
    "            input = torch.from_numpy(input)\n",
    "        padded_input = torch.nn.functional.pad(input, (self.padding, self.padding, self.padding, self.padding), \n",
    "                                              mode='constant', value=-float('inf'))\n",
    "        batch_size, channels, H_in, W_in = input.shape\n",
    "        H_out = (H_in + 2*self.padding - self.kernel_size) // self.stride + 1\n",
    "        W_out = (W_in + 2*self.padding - self.kernel_size) // self.stride + 1\n",
    "        self.output = torch.zeros(batch_size, channels, H_out, W_out) \n",
    "        self.max_indices = torch.zeros_like(self.output, dtype=torch.long)\n",
    "        \n",
    "        for i in range(batch_size):\n",
    "            for j in range(channels):\n",
    "                for n in range(H_out):\n",
    "                    for m in range(W_out):\n",
    "                        H_start = n * self.stride\n",
    "                        H_end = H_start + self.kernel_size\n",
    "                        W_start = m * self.stride\n",
    "                        W_end = W_start + self.kernel_size\n",
    "                        \n",
    "                        window = padded_input[i, j, H_start:H_end, W_start:W_end]\n",
    "                        self.output[i, j, n, m] = torch.max(window)\n",
    "                        self.max_indices[i, j, n, m] = torch.argmax(window)\n",
    "        return  self.output\n",
    "\n",
    "    def updateGradInput(self, input, gradOutput):\n",
    "        # Your code goes here. ################################################\n",
    "        if isinstance(input, np.ndarray):\n",
    "            input = torch.from_numpy(input)\n",
    "        if isinstance(gradOutput, np.ndarray):\n",
    "            gradOutput = torch.from_numpy(gradOutput)\n",
    "        batch_size, channels, H_in, W_in = input.shape\n",
    "        H_out, W_out = gradOutput.shape[-2:]\n",
    "        self.gradInput = torch.zeros_like(input)\n",
    "        padded_input = torch.nn.functional.pad(input, \n",
    "                                             (self.padding, self.padding, self.padding, self.padding), \n",
    "                                             mode='constant', value=-float('inf'))\n",
    "        \n",
    "        for i in range(batch_size):\n",
    "            for j in range(channels):\n",
    "                for n in range(H_out):\n",
    "                    for m in range(W_out):\n",
    "                        H_start = n * self.stride\n",
    "                        W_start = m * self.stride\n",
    "                        \n",
    "                        # Находим позицию максимума в окне\n",
    "                        idx = self.max_indices[i, j, n, m]\n",
    "                        kh = idx // self.kernel_size\n",
    "                        kw = idx % self.kernel_size\n",
    "                        \n",
    "                        # Добавляем градиент только в позицию максимума\n",
    "                        if (H_start + kh < H_in + 2*self.padding and \n",
    "                            W_start + kw < W_in + 2*self.padding):\n",
    "                            self.gradInput[i, j, H_start + kh - self.padding, \n",
    "                                          W_start + kw - self.padding] += gradOutput[i, j, n, m]\n",
    "        \n",
    "        return self.gradInput\n",
    "\n",
    "    def __repr__(self):\n",
    "        return \"MaxPool2d\"\n",
    "\n",
    "class AvgPool2d(Module):\n",
    "    def __init__(self, kernel_size, stride, padding):\n",
    "        super(AvgPool2d, self).__init__()\n",
    "\n",
    "        self.kernel_size = kernel_size\n",
    "        self.stride = stride\n",
    "        self.padding = padding\n",
    "\n",
    "    def updateOutput(self, input):\n",
    "        # Your code goes here. ################################################\n",
    "        if isinstance(input, np.ndarray):\n",
    "            input = torch.from_numpy(input)     \n",
    "        padded_input = torch.nn.functional.pad(input,\n",
    "                                             (self.padding, self.padding, self.padding, self.padding),\n",
    "                                             mode='constant', value=0)\n",
    "        \n",
    "        batch_size, channels, H_in, W_in = input.shape\n",
    "        H_out = (H_in + 2*self.padding - self.kernel_size) // self.stride + 1\n",
    "        W_out = (W_in + 2*self.padding - self.kernel_size) // self.stride + 1\n",
    "        \n",
    "        self.output = torch.zeros(batch_size, channels, H_out, W_out)\n",
    "        for i in range(batch_size):\n",
    "            for j in range(channels):\n",
    "                for n in range(H_out):\n",
    "                    for m in range(W_out):\n",
    "                        H_start = n * self.stride\n",
    "                        H_end = H_start + self.kernel_size\n",
    "                        W_start = m * self.stride\n",
    "                        W_end = W_start + self.kernel_size\n",
    "                        \n",
    "                        window = padded_input[i, j, H_start:H_end, W_start:W_end]\n",
    "                        self.output[i, j, n, m] = torch.mean(window)\n",
    "        return  self.output\n",
    "\n",
    "    def updateGradInput(self, input, gradOutput):\n",
    "        # Your code goes here. ################################################\n",
    "        if isinstance(input, np.ndarray):\n",
    "            input = torch.from_numpy(input)\n",
    "        if isinstance(gradOutput, np.ndarray):\n",
    "            gradOutput = torch.from_numpy(gradOutput)\n",
    "            \n",
    "        batch_size, channels, H_in, W_in = input.shape\n",
    "        H_out, W_out = gradOutput.shape[-2:]\n",
    "        self.gradInput = torch.zeros_like(input)\n",
    "        scale = 1.0 / (self.kernel_size * self.kernel_size)\n",
    "        \n",
    "        for i in range(batch_size):\n",
    "            for j in range(channels):\n",
    "                for n in range(H_out):\n",
    "                    for m in range(W_out):\n",
    "                        H_start = n * self.stride\n",
    "                        H_end = H_start + self.kernel_size\n",
    "                        W_start = m * self.stride\n",
    "                        W_end = W_start + self.kernel_size\n",
    "                        \n",
    "                        grad_val = gradOutput[i, j, n, m] * scale\n",
    "                        self.gradInput[i, j, max(0, H_start - self.padding):min(H_in, H_end - self.padding),\n",
    "                                     max(0, W_start - self.padding):min(W_in, W_end - self.padding)] += grad_val\n",
    "        \n",
    "        return self.gradInput\n",
    "\n",
    "    def __repr__(self):\n",
    "        return \"AvgPool2d\""
   ]
  },
  {
   "cell_type": "markdown",
   "metadata": {
    "id": "KTN5R3CwrukV"
   },
   "source": [
    "#8. (0.3) Implement **GlobalMaxPool2d** and **GlobalAvgPool2d**. They do not have testing and parameters are up to you but they must aggregate information within channels. Write test functions for these layers on your own."
   ]
  },
  {
   "cell_type": "code",
   "execution_count": 25,
   "metadata": {},
   "outputs": [],
   "source": [
    "class GlobalMaxPool2d(Module):\n",
    "    def __init__(self):\n",
    "        super(GlobalMaxPool2d, self).__init__()\n",
    "        \n",
    "    def updateOutput(self, input):\n",
    "        self.output = torch.max(torch.max(input, dim=-1)[0], dim=-1)[0].unsqueeze(-1).unsqueeze(-1)\n",
    "        return self.output\n",
    "    \n",
    "    def updateGradInput(self, input, gradOutput):\n",
    "        self.gradInput = torch.zeros_like(input)\n",
    "        \n",
    "        max_vals_h = torch.max(input, dim=-1)[0]  \n",
    "        max_vals = torch.max(max_vals_h, dim=-1)[0]\n",
    "        mask = (input == max_vals.unsqueeze(-1).unsqueeze(-1)).float()\n",
    "        \n",
    "        norm = mask.sum(dim=[-1,-2], keepdim=True)\n",
    "        mask = mask / (norm + 1e-10)\n",
    "        \n",
    "        # Distribute gradients\n",
    "        self.gradInput = mask * gradOutput\n",
    "        return self.gradInput\n",
    "    \n",
    "    def __repr__(self):\n",
    "        return \"GlobalMaxPool2d()\""
   ]
  },
  {
   "cell_type": "markdown",
   "metadata": {
    "id": "cYeBQDBhtViy"
   },
   "source": [
    "#9. (0.2) Implement [**Flatten**](https://pytorch.org/docs/stable/generated/torch.flatten.html)"
   ]
  },
  {
   "cell_type": "code",
   "execution_count": 27,
   "metadata": {
    "id": "SimPEMOFqhTQ"
   },
   "outputs": [],
   "source": [
    "class Flatten(Module):\n",
    "    def __init__(self, start_dim=0, end_dim=-1):\n",
    "        super(Flatten, self).__init__()\n",
    "\n",
    "        self.start_dim = start_dim\n",
    "        self.end_dim = end_dim\n",
    "\n",
    "    def updateOutput(self, input):\n",
    "        # Your code goes here. ################################################\n",
    "        self.original_shape = input.shape\n",
    "        if self.end_dim < 0:\n",
    "            self.end_dim = len(self.original_shape) + self.end_dim\n",
    "        new_shape = list(self.original_shape[:self.start_dim])\n",
    "        flattened_size = 1\n",
    "        for dim in self.original_shape[self.start_dim:self.end_dim+1]:\n",
    "            flattened_size *= dim\n",
    "        new_shape.append(flattened_size)\n",
    "        new_shape.extend(self.original_shape[self.end_dim+1:])\n",
    "        self.output = input.reshape(new_shape)\n",
    "        return  self.output\n",
    "\n",
    "    def updateGradInput(self, input, gradOutput):\n",
    "        # Your code goes here. ################################################\n",
    "        self.gradInput = gradOutput.reshape(self.original_shape)\n",
    "        return self.gradInput\n",
    "\n",
    "    def __repr__(self):\n",
    "        return \"Flatten\""
   ]
  },
  {
   "cell_type": "markdown",
   "metadata": {
    "id": "o36vPHSSj6eb"
   },
   "source": [
    "# Activation functions"
   ]
  },
  {
   "cell_type": "markdown",
   "metadata": {
    "id": "l_pryRQIj6ec"
   },
   "source": [
    "Here's the complete example for the **Rectified Linear Unit** non-linearity (aka **ReLU**):"
   ]
  },
  {
   "cell_type": "code",
   "execution_count": 30,
   "metadata": {
    "id": "sgm8bXjKj6ec"
   },
   "outputs": [],
   "source": [
    "class ReLU(Module):\n",
    "    def __init__(self):\n",
    "         super(ReLU, self).__init__()\n",
    "\n",
    "    def updateOutput(self, input):\n",
    "        self.output = np.maximum(input, 0)\n",
    "        return self.output\n",
    "\n",
    "    def updateGradInput(self, input, gradOutput):\n",
    "        self.gradInput = np.multiply(gradOutput , input > 0)\n",
    "        return self.gradInput\n",
    "\n",
    "    def __repr__(self):\n",
    "        return \"ReLU\""
   ]
  },
  {
   "cell_type": "markdown",
   "metadata": {
    "id": "yB0UHGagj6ec"
   },
   "source": [
    "## 10. (0.1) Leaky ReLU\n",
    "Implement [**Leaky Rectified Linear Unit**](http://en.wikipedia.org/wiki%2FRectifier_%28neural_networks%29%23Leaky_ReLUs). Expriment with slope."
   ]
  },
  {
   "cell_type": "code",
   "execution_count": 32,
   "metadata": {
    "id": "agwfkwO0j6ec"
   },
   "outputs": [],
   "source": [
    "class LeakyReLU(Module):\n",
    "    def __init__(self, slope = 0.03):\n",
    "        super(LeakyReLU, self).__init__()\n",
    "\n",
    "        self.slope = slope\n",
    "\n",
    "    def updateOutput(self, input):\n",
    "        # Your code goes here. ################################################\n",
    "        self.output = np.maximum(input, self.slope * input)\n",
    "        return  self.output\n",
    "\n",
    "    def updateGradInput(self, input, gradOutput):\n",
    "        # Your code goes here. ################################################\n",
    "        self.gradInput = np.where(input > 0, gradOutput, gradOutput * self.slope)\n",
    "        return self.gradInput\n",
    "\n",
    "    def __repr__(self):\n",
    "        return \"LeakyReLU\""
   ]
  },
  {
   "cell_type": "markdown",
   "metadata": {
    "id": "t-STyecvj6ec"
   },
   "source": [
    "## 11. (0.1) ELU\n",
    "Implement [**Exponential Linear Units**](http://arxiv.org/abs/1511.07289) activations."
   ]
  },
  {
   "cell_type": "code",
   "execution_count": 34,
   "metadata": {
    "id": "jJSzEu1mj6ec"
   },
   "outputs": [],
   "source": [
    "class ELU(Module):\n",
    "    def __init__(self, alpha = 1.0):\n",
    "        super(ELU, self).__init__()\n",
    "\n",
    "        self.alpha = alpha\n",
    "\n",
    "    def updateOutput(self, input):\n",
    "        # Your code goes here. ################################################\n",
    "        self.output = np.where(input > 0, input, self.alpha*(np.exp(input)-1))\n",
    "        return  self.output\n",
    "\n",
    "    def updateGradInput(self, input, gradOutput):\n",
    "        # Your code goes here. ################################################\n",
    "        self.gradInput = np.where(input > 0, gradOutput, gradOutput * self.alpha * np.exp(input))\n",
    "        return self.gradInput\n",
    "\n",
    "    def __repr__(self):\n",
    "        return \"ELU\""
   ]
  },
  {
   "cell_type": "markdown",
   "metadata": {
    "id": "Gn3C7KTqj6ec"
   },
   "source": [
    "## 12. (0.1) SoftPlus\n",
    "Implement [**SoftPlus**](https://en.wikipedia.org/wiki%2FRectifier_%28neural_networks%29) activations. Look, how they look a lot like ReLU."
   ]
  },
  {
   "cell_type": "code",
   "execution_count": 36,
   "metadata": {
    "id": "xcDPMssrj6ec"
   },
   "outputs": [],
   "source": [
    "class SoftPlus(Module):\n",
    "    def __init__(self):\n",
    "        super(SoftPlus, self).__init__()\n",
    "\n",
    "    def updateOutput(self, input):\n",
    "        # Your code goes here. ################################################\n",
    "        self.output = np.log(1 + np.exp(input))\n",
    "        return  self.output\n",
    "\n",
    "    def updateGradInput(self, input, gradOutput):\n",
    "        # Your code goes here. ################################################  # Handle large negative values\n",
    "        self.gradInput = gradOutput * (1 / (1 + np.exp(-input)))\n",
    "        return self.gradInput\n",
    "\n",
    "    def __repr__(self):\n",
    "        return \"SoftPlus\""
   ]
  },
  {
   "cell_type": "markdown",
   "metadata": {
    "id": "kw3PeZjOuo0e"
   },
   "source": [
    "#13. (0.2) Gelu\n",
    "Implement [**Gelu**](https://pytorch.org/docs/stable/generated/torch.nn.GELU.html) activations."
   ]
  },
  {
   "cell_type": "code",
   "execution_count": 38,
   "metadata": {
    "id": "SdieE0Dtuo8j"
   },
   "outputs": [],
   "source": [
    "class Gelu(Module):\n",
    "    def __init__(self):\n",
    "        super(Gelu, self).__init__()\n",
    "\n",
    "    def updateOutput(self, input):\n",
    "        # Your code goes here. ################################################\\\n",
    "        self.output = 0.5 * input * (1 + torch.erf(torch.from_numpy(input / np.sqrt(2))).numpy())\n",
    "        return  self.output\n",
    "\n",
    "    def updateGradInput(self, input, gradOutput):\n",
    "        # Your code goes here. ################################################\n",
    "        self.gradInput = gradOutput * (0.5*(1 + torch.erf(torch.from_numpy(input/np.sqrt(2))).numpy()) + (input * np.exp(-0.5*input**2))/np.sqrt(2*np.pi))\n",
    "        return self.gradInput\n",
    "\n",
    "    def __repr__(self):\n",
    "        return \"Gelu\""
   ]
  },
  {
   "cell_type": "markdown",
   "metadata": {
    "id": "55p7UvPAj6ec"
   },
   "source": [
    "# Criterions"
   ]
  },
  {
   "cell_type": "markdown",
   "metadata": {
    "id": "5NFaxZaqj6ec"
   },
   "source": [
    "Criterions are used to score the models answers."
   ]
  },
  {
   "cell_type": "code",
   "execution_count": 41,
   "metadata": {
    "id": "XGu45A8qj6ec"
   },
   "outputs": [],
   "source": [
    "class Criterion(object):\n",
    "    def __init__ (self):\n",
    "        self.output = None\n",
    "        self.gradInput = None\n",
    "\n",
    "    def forward(self, input, target):\n",
    "        \"\"\"\n",
    "            Given an input and a target, compute the loss function\n",
    "            associated to the criterion and return the result.\n",
    "\n",
    "            For consistency this function should not be overrided,\n",
    "            all the code goes in `updateOutput`.\n",
    "        \"\"\"\n",
    "        return self.updateOutput(input, target)\n",
    "\n",
    "    def backward(self, input, target):\n",
    "        \"\"\"\n",
    "            Given an input and a target, compute the gradients of the loss function\n",
    "            associated to the criterion and return the result.\n",
    "\n",
    "            For consistency this function should not be overrided,\n",
    "            all the code goes in `updateGradInput`.\n",
    "        \"\"\"\n",
    "        return self.updateGradInput(input, target)\n",
    "\n",
    "    def updateOutput(self, input, target):\n",
    "        \"\"\"\n",
    "        Function to override.\n",
    "        \"\"\"\n",
    "        return self.output\n",
    "\n",
    "    def updateGradInput(self, input, target):\n",
    "        \"\"\"\n",
    "        Function to override.\n",
    "        \"\"\"\n",
    "        return self.gradInput\n",
    "\n",
    "    def __repr__(self):\n",
    "        \"\"\"\n",
    "        Pretty printing. Should be overrided in every module if you want\n",
    "        to have readable description.\n",
    "        \"\"\"\n",
    "        return \"Criterion\""
   ]
  },
  {
   "cell_type": "markdown",
   "metadata": {
    "id": "WuU26xkpj6ec"
   },
   "source": [
    "The **MSECriterion**, which is basic L2 norm usually used for regression, is implemented here for you.\n",
    "- input:   **`batch_size x n_feats`**\n",
    "- target: **`batch_size x n_feats`**\n",
    "- output: **scalar**"
   ]
  },
  {
   "cell_type": "code",
   "execution_count": 43,
   "metadata": {
    "id": "-i3VNuHhj6ec"
   },
   "outputs": [],
   "source": [
    "class MSECriterion(Criterion):\n",
    "    def __init__(self):\n",
    "        super(MSECriterion, self).__init__()\n",
    "\n",
    "    def updateOutput(self, input, target):\n",
    "        self.output = np.sum(np.power(input - target,2)) / input.shape[0]\n",
    "        return self.output\n",
    "\n",
    "    def updateGradInput(self, input, target):\n",
    "        self.gradInput  = (input - target) * 2 / input.shape[0]\n",
    "        return self.gradInput\n",
    "\n",
    "    def __repr__(self):\n",
    "        return \"MSECriterion\""
   ]
  },
  {
   "cell_type": "markdown",
   "metadata": {
    "id": "x8LKLWNVj6ec"
   },
   "source": [
    "## 14. (0.2) Negative LogLikelihood criterion (numerically unstable)\n",
    "You task is to implement the **ClassNLLCriterion**. It should implement [multiclass log loss](http://scikit-learn.org/stable/modules/model_evaluation.html#log-loss). Nevertheless there is a sum over `y` (target) in that formula,\n",
    "remember that targets are one-hot encoded. This fact simplifies the computations a lot. Note, that criterions are the only places, where you divide by batch size. Also there is a small hack with adding small number to probabilities to avoid computing log(0).\n",
    "- input:   **`batch_size x n_feats`** - probabilities\n",
    "- target: **`batch_size x n_feats`** - one-hot representation of ground truth\n",
    "- output: **scalar**\n",
    "\n"
   ]
  },
  {
   "cell_type": "code",
   "execution_count": 45,
   "metadata": {
    "id": "die7KvW6j6ec"
   },
   "outputs": [],
   "source": [
    "class ClassNLLCriterionUnstable(Criterion):\n",
    "    EPS = 1e-15\n",
    "    def __init__(self):\n",
    "        a = super(ClassNLLCriterionUnstable, self)\n",
    "        super(ClassNLLCriterionUnstable, self).__init__()\n",
    "\n",
    "    def updateOutput(self, input, target):\n",
    "        # return loss of loss function\n",
    "\n",
    "        # Use this trick to avoid numerical errors\n",
    "        input_clamp = np.clip(input, self.EPS, 1 - self.EPS)\n",
    "\n",
    "        # Your code goes here. ################################################\n",
    "        self.output = -np.sum(target * np.log(input_clamp)) / target.shape[0]\n",
    "        return self.output\n",
    "\n",
    "    def updateGradInput(self, input, target):\n",
    "        # return gradient of loss function\n",
    "\n",
    "        # Use this trick to avoid numerical errors\n",
    "        input_clamp = np.clip(input, self.EPS, 1 - self.EPS)\n",
    "\n",
    "        # Your code goes here. ################################################\n",
    "        self.gradInput = -target / (input_clamp * target.shape[0])\n",
    "        return self.gradInput\n",
    "\n",
    "    def __repr__(self):\n",
    "        return \"ClassNLLCriterionUnstable\""
   ]
  },
  {
   "cell_type": "markdown",
   "metadata": {
    "id": "uHr_JbU5j6ec"
   },
   "source": [
    "## 15. (0.3) Negative LogLikelihood criterion (numerically stable)\n",
    "- input:   **`batch_size x n_feats`** - log probabilities\n",
    "- target: **`batch_size x n_feats`** - one-hot representation of ground truth\n",
    "- output: **scalar**\n",
    "\n",
    "Task is similar to the previous one, but now the criterion input is the output of log-softmax layer. This decomposition allows us to avoid problems with computation of forward and backward of log()."
   ]
  },
  {
   "cell_type": "code",
   "execution_count": 47,
   "metadata": {
    "id": "v7N8bVP9j6ec"
   },
   "outputs": [],
   "source": [
    "class ClassNLLCriterion(Criterion):\n",
    "    def __init__(self):\n",
    "        a = super(ClassNLLCriterion, self)\n",
    "        super(ClassNLLCriterion, self).__init__()\n",
    "\n",
    "    def updateOutput(self, input, target):\n",
    "        # Your code goes here. ################################################\n",
    "        self.output = -np.sum(target * input) / target.shape[0]\n",
    "        return self.output\n",
    "\n",
    "    def updateGradInput(self, input, target):\n",
    "        # Your code goes here. ################################################\n",
    "        self.gradInput = -target / target.shape[0]\n",
    "        return self.gradInput\n",
    "\n",
    "    def __repr__(self):\n",
    "        return \"ClassNLLCriterion\""
   ]
  },
  {
   "cell_type": "code",
   "execution_count": null,
   "metadata": {
    "id": "E-ZnhKxaj6ed"
   },
   "outputs": [],
   "source": []
  },
  {
   "cell_type": "markdown",
   "metadata": {
    "id": "TC2Bf1PP2Ios"
   },
   "source": [
    "1-я часть задания: реализация слоев, лосей и функций активации - 5 баллов. \\\\\n",
    "2-я часть задания: реализация моделей на своих классах. Что должно быть:\n",
    "  1. Выберите оптимизатор и реализуйте его, чтоб он работал с вами классами. - 1 балл.\n",
    "  2. Модель для задачи мультирегрессии на выбраных вами данных. Использовать FCNN, dropout, batchnorm, MSE. Пробуйте различные фукнции активации. Для первой модели попробуйте большую, среднюю и маленькую модель. - 1 балл.\n",
    "  3. Модель для задачи мультиклассификации на MNIST. Использовать свёртки, макспулы, флэттэны, софтмаксы - 1 балла.\n",
    "  4. Автоэнкодер для выбранных вами данных. Должен быть на свёртках и полносвязных слоях, дропаутах, батчнормах и тд. - 2 балла. \\\\\n",
    "\n",
    "Дополнительно в оценке каждой модели будет учитываться:\n",
    "1. Наличие правильно выбранной метрики и лосс функции.\n",
    "2. Отрисовка графиков лосей и метрик на трейне-валидации. Проверка качества модели на тесте.\n",
    "3. Наличие шедулера для lr.\n",
    "4. Наличие вормапа. \n",
    "5. Наличие механизма ранней остановки и сохранение лучшей модели.\n",
    "6. Свитч лося (метрики) и оптимайзера."
   ]
  },
  {
   "cell_type": "code",
   "execution_count": 49,
   "metadata": {},
   "outputs": [],
   "source": [
    "class AdamOptimizer:\n",
    "    def __init__(self, model, lr=0.001, beta1=0.9, beta2=0.999, epsilon=1e-8):\n",
    "        self.model = model\n",
    "        self.lr = lr\n",
    "        self.beta1 = beta1\n",
    "        self.beta2 = beta2\n",
    "        self.epsilon = epsilon\n",
    "        self.t = 0\n",
    "        self.params = self._flatten(model.getParameters())\n",
    "        self.grads = []\n",
    "        self.m = [np.zeros_like(p) for p in self.params]\n",
    "        self.v = [np.zeros_like(p) for p in self.params]\n",
    "\n",
    "    def _flatten(self, params):\n",
    "        flat = []\n",
    "        for item in params:\n",
    "            if isinstance(item, (list, tuple)):\n",
    "                flat.extend(self._flatten(item))\n",
    "            elif isinstance(item, np.ndarray):\n",
    "                flat.append(item)\n",
    "            else:\n",
    "                raise ValueError(f\"Неподдерживаемый тип: {type(item)}\")\n",
    "        return flat\n",
    "\n",
    "    def step(self):\n",
    "        self.t += 1\n",
    "        self.grads = self._flatten(self.model.getGradParameters())\n",
    "        \n",
    "        for i in range(len(self.params)):\n",
    "            self.m[i] = self.beta1 * self.m[i] + (1 - self.beta1) * self.grads[i]\n",
    "            self.v[i] = self.beta2 * self.v[i] + (1 - self.beta2) * (self.grads[i] ** 2)\n",
    "            m_hat = self.m[i] / (1 - self.beta1**self.t)\n",
    "            v_hat = self.v[i] / (1 - self.beta2**self.t)\n",
    "            self.params[i][...] -= self.lr * m_hat / (np.sqrt(v_hat) + self.epsilon)"
   ]
  },
  {
   "cell_type": "code",
   "execution_count": 50,
   "metadata": {},
   "outputs": [],
   "source": [
    "n_samples=30000\n",
    "n_features=18\n",
    "n_targets=3\n",
    "noise=0.1\n",
    "X, y = make_regression(n_samples=n_samples, n_features=n_features, n_targets=n_targets, noise=noise, random_state=42)\n",
    "X_train, X_test, y_train, y_test = train_test_split(X, y, test_size=0.2, random_state=42)\n",
    "X_train, X_val, y_train, y_val = train_test_split(X_train, y_train, test_size=0.25, random_state=42)\n",
    "mean, std = X_train.mean(axis=0), X_train.std(axis=0)\n",
    "X_train = (X_train - mean) / std\n",
    "X_val = (X_val - mean) / std\n",
    "X_test = (X_test - mean) / std"
   ]
  },
  {
   "cell_type": "code",
   "execution_count": 51,
   "metadata": {},
   "outputs": [],
   "source": [
    "class LRScheduler:\n",
    "    def __init__(self, optimizer, patience=5, factor=0.1):\n",
    "        self.optimizer = optimizer\n",
    "        self.patience = patience\n",
    "        self.factor = factor\n",
    "        self.best_loss = float('inf')\n",
    "        self.counter = 0\n",
    "        \n",
    "    def step(self, current_loss):\n",
    "        if current_loss < self.best_loss:\n",
    "            self.best_loss = current_loss\n",
    "            self.counter = 0\n",
    "        else:\n",
    "            self.counter += 1\n",
    "            if self.counter >= self.patience:\n",
    "                self.optimizer.lr *= self.factor\n",
    "                self.counter = 0\n",
    "                print(f\"Learning rate reduced to {self.optimizer.lr}\")\n",
    "\n",
    "class EarlyStopping:\n",
    "    def __init__(self, patience=10, min_delta=0):\n",
    "        self.patience = patience\n",
    "        self.min_delta = min_delta\n",
    "        self.counter = 0\n",
    "        self.best_loss = float('inf')\n",
    "        self.best_params = None\n",
    "\n",
    "    def _flatten_params(self, params):\n",
    "        flat = []\n",
    "        for item in params:\n",
    "            if isinstance(item, (list, tuple)):\n",
    "                flat.extend(self._flatten_params(item))\n",
    "            elif isinstance(item, np.ndarray):\n",
    "                flat.append(item.copy())  \n",
    "            else:\n",
    "                raise ValueError(f\"Unsupported parameter type: {type(item)}\")\n",
    "        return flat\n",
    "\n",
    "    def __call__(self, model, current_loss):\n",
    "        if current_loss < self.best_loss - self.min_delta:\n",
    "            self.best_loss = current_loss\n",
    "            self.counter = 0\n",
    "            self.best_params = self._flatten_params(model.getParameters())\n",
    "            return False\n",
    "        else:\n",
    "            self.counter += 1\n",
    "            if self.counter >= self.patience:\n",
    "                current_params = self._flatten_params(model.getParameters())\n",
    "                for i, p in enumerate(self.best_params):\n",
    "                    current_params[i][...] = p  \n",
    "                return True\n",
    "            return False\n",
    "\n",
    "    def _flatten_params(self, params):\n",
    "        flat = []\n",
    "        for item in params:\n",
    "            if isinstance(item, (list, tuple)):\n",
    "                flat.extend(self._flatten_params(item))\n",
    "            elif isinstance(item, np.ndarray):\n",
    "                flat.append(item)\n",
    "            else:\n",
    "                raise ValueError(f\"Unsupported parameter type: {type(item)}\")\n",
    "        return flat\n",
    "\n",
    "    def __call__(self, model, current_loss):\n",
    "        if current_loss < self.best_loss - self.min_delta:\n",
    "            self.best_loss = current_loss\n",
    "            self.counter = 0\n",
    "            self.best_params = self._flatten_params(model.getParameters())\n",
    "            return False\n",
    "        else:\n",
    "            self.counter += 1\n",
    "            if self.counter >= self.patience:\n",
    "                current_params = self._flatten_params(model.getParameters())\n",
    "                for i, p in enumerate(self.best_params):\n",
    "                    current_params[i][...] = p\n",
    "                return True\n",
    "            return False\n",
    "\n",
    "def plot_metrics(train_loss, val_loss, title=\"Training Metrics\"):\n",
    "    plt.figure(figsize=(10, 5))\n",
    "    plt.plot(train_loss, label=\"Train Loss\")\n",
    "    plt.plot(val_loss, label=\"Validation Loss\")\n",
    "    plt.title(title)\n",
    "    plt.xlabel(\"Epoch\")\n",
    "    plt.ylabel(\"MSE Loss\")\n",
    "    plt.legend()\n",
    "    plt.grid()\n",
    "    plt.show()\n",
    "\n",
    "def train_model(model, X_train, y_train, X_val, y_val, epochs=100, batch_size=128, lr=0.001):\n",
    "    criterion = MSECriterion()\n",
    "    optimizer = AdamOptimizer(model, lr=lr)\n",
    "    lr_scheduler = LRScheduler(optimizer)\n",
    "    early_stopping = EarlyStopping()\n",
    "    \n",
    "    train_losses = []\n",
    "    val_losses = []\n",
    "    \n",
    "    for epoch in range(epochs):\n",
    "        model.train()\n",
    "        permutation = np.random.permutation(len(X_train))\n",
    "        batch_losses = []\n",
    "        \n",
    "        for i in range(0, len(X_train), batch_size):\n",
    "            indices = permutation[i:i+batch_size]\n",
    "            X_batch = X_train[indices]\n",
    "            y_batch = y_train[indices]\n",
    "            output = model.forward(X_batch)\n",
    "            loss = criterion.forward(output, y_batch)\n",
    "            grad = criterion.backward(output, y_batch)\n",
    "            model.backward(X_batch, grad)\n",
    "            optimizer.step()\n",
    "            model.zeroGradParameters()\n",
    "            batch_losses.append(loss)\n",
    "        \n",
    "        train_loss = np.mean(batch_losses)\n",
    "        train_losses.append(train_loss)\n",
    "        model.evaluate()\n",
    "        val_output = model.forward(X_val)\n",
    "        val_loss = criterion.forward(val_output, y_val)\n",
    "        val_losses.append(val_loss)\n",
    "        \n",
    "        lr_scheduler.step(val_loss)\n",
    "        if early_stopping(model, val_loss):\n",
    "            print(f\"Early stopping at epoch {epoch+1}\")\n",
    "            break\n",
    "        \n",
    "        print(f\"Epoch {epoch+1}/{epochs} | Train Loss: {train_loss:.4f} | Val Loss: {val_loss:.4f}\")\n",
    "    \n",
    "    plot_metrics(train_losses, val_losses)\n",
    "    return train_losses, val_losses"
   ]
  },
  {
   "cell_type": "code",
   "execution_count": 52,
   "metadata": {},
   "outputs": [
    {
     "name": "stdout",
     "output_type": "stream",
     "text": [
      "Epoch 1/100 | Train Loss: 67295.0029 | Val Loss: 50022.8335\n",
      "Epoch 2/100 | Train Loss: 41271.8291 | Val Loss: 36034.8038\n",
      "Epoch 3/100 | Train Loss: 28576.6548 | Val Loss: 23695.9158\n",
      "Epoch 4/100 | Train Loss: 22630.3417 | Val Loss: 18798.5131\n",
      "Epoch 5/100 | Train Loss: 19272.7114 | Val Loss: 17399.0392\n",
      "Epoch 6/100 | Train Loss: 17026.1555 | Val Loss: 15468.5500\n",
      "Epoch 7/100 | Train Loss: 14540.0436 | Val Loss: 11783.1498\n",
      "Epoch 8/100 | Train Loss: 12173.8399 | Val Loss: 10242.2273\n",
      "Epoch 9/100 | Train Loss: 9698.2694 | Val Loss: 9587.9021\n",
      "Epoch 10/100 | Train Loss: 7518.9234 | Val Loss: 5999.6182\n",
      "Epoch 11/100 | Train Loss: 5995.2057 | Val Loss: 4096.8147\n",
      "Epoch 12/100 | Train Loss: 4700.3986 | Val Loss: 1960.7845\n",
      "Epoch 13/100 | Train Loss: 3920.5417 | Val Loss: 1124.1364\n",
      "Epoch 14/100 | Train Loss: 3306.1004 | Val Loss: 946.7919\n",
      "Epoch 15/100 | Train Loss: 3015.7332 | Val Loss: 973.3850\n",
      "Epoch 16/100 | Train Loss: 2911.1768 | Val Loss: 1954.0158\n",
      "Epoch 17/100 | Train Loss: 2677.3530 | Val Loss: 1062.1598\n",
      "Epoch 18/100 | Train Loss: 2738.8971 | Val Loss: 2156.6426\n",
      "Epoch 19/100 | Train Loss: 2528.5087 | Val Loss: 437.1608\n",
      "Epoch 20/100 | Train Loss: 2622.2147 | Val Loss: 1998.0252\n",
      "Epoch 21/100 | Train Loss: 2509.8039 | Val Loss: 1120.4211\n",
      "Epoch 22/100 | Train Loss: 2617.2990 | Val Loss: 529.6482\n",
      "Epoch 23/100 | Train Loss: 2421.5757 | Val Loss: 5128.5230\n",
      "Learning rate reduced to 0.001\n",
      "Epoch 24/100 | Train Loss: 2518.0961 | Val Loss: 858.2101\n",
      "Epoch 25/100 | Train Loss: 2501.1210 | Val Loss: 1799.1286\n",
      "Epoch 26/100 | Train Loss: 2591.7452 | Val Loss: 626.6574\n",
      "Epoch 27/100 | Train Loss: 2484.0774 | Val Loss: 343.0251\n",
      "Epoch 28/100 | Train Loss: 2381.5293 | Val Loss: 331.9576\n",
      "Epoch 29/100 | Train Loss: 2478.3462 | Val Loss: 1632.8801\n",
      "Epoch 30/100 | Train Loss: 2379.1854 | Val Loss: 4134.8253\n",
      "Epoch 31/100 | Train Loss: 2433.4431 | Val Loss: 4971.4629\n",
      "Epoch 32/100 | Train Loss: 2520.3600 | Val Loss: 2508.7952\n",
      "Learning rate reduced to 0.0001\n",
      "Epoch 33/100 | Train Loss: 2517.2965 | Val Loss: 1390.9486\n",
      "Epoch 34/100 | Train Loss: 2475.2408 | Val Loss: 1621.4550\n",
      "Epoch 35/100 | Train Loss: 2553.4217 | Val Loss: 2975.5647\n",
      "Epoch 36/100 | Train Loss: 2460.2792 | Val Loss: 285.9061\n",
      "Epoch 37/100 | Train Loss: 2413.3429 | Val Loss: 762.0808\n",
      "Epoch 38/100 | Train Loss: 2396.3698 | Val Loss: 692.9880\n",
      "Epoch 39/100 | Train Loss: 2431.5023 | Val Loss: 614.5457\n",
      "Epoch 40/100 | Train Loss: 2461.4279 | Val Loss: 427.4875\n",
      "Epoch 41/100 | Train Loss: 2384.7090 | Val Loss: 230.2670\n",
      "Epoch 42/100 | Train Loss: 2416.2503 | Val Loss: 468.2191\n",
      "Epoch 43/100 | Train Loss: 2569.3041 | Val Loss: 643.8426\n",
      "Epoch 44/100 | Train Loss: 2388.7430 | Val Loss: 564.6772\n",
      "Epoch 45/100 | Train Loss: 2486.4749 | Val Loss: 459.5533\n",
      "Learning rate reduced to 1e-05\n",
      "Epoch 46/100 | Train Loss: 2392.4048 | Val Loss: 2913.2743\n",
      "Epoch 47/100 | Train Loss: 2436.5453 | Val Loss: 239.3388\n",
      "Epoch 48/100 | Train Loss: 2469.8406 | Val Loss: 1034.6109\n",
      "Epoch 49/100 | Train Loss: 2397.6463 | Val Loss: 474.5657\n",
      "Epoch 50/100 | Train Loss: 2435.3342 | Val Loss: 346.0074\n",
      "Learning rate reduced to 1.0000000000000002e-06\n",
      "Early stopping at epoch 51\n"
     ]
    },
    {
     "data": {
      "image/png": "[encoded data removed]",
      "text/plain": [
       "<Figure size 1000x500 with 1 Axes>"
      ]
     },
     "metadata": {},
     "output_type": "display_data"
    },
    {
     "name": "stdout",
     "output_type": "stream",
     "text": [
      "\n",
      "Test Results: MSE = 925.4974, R2 = 0.9890\n"
     ]
    }
   ],
   "source": [
    "small_model = Sequential()\n",
    "small_model.add(Linear(n_features, 64))\n",
    "small_model.add(BatchNormalization())\n",
    "small_model.add(ReLU())\n",
    "small_model.add(Dropout(p=0.2))\n",
    "small_model.add(Linear(64, n_targets))\n",
    "\n",
    "train_losses, val_losses = train_model(\n",
    "    model=small_model,\n",
    "    X_train=X_train,\n",
    "    y_train=y_train,\n",
    "    X_val=X_val,\n",
    "    y_val=y_val,\n",
    "    epochs=100,\n",
    "    lr=0.01\n",
    ")\n",
    "\n",
    "small_model.evaluate()\n",
    "test_pred = small_model.forward(X_test)\n",
    "small_test_loss = MSECriterion().forward(test_pred, y_test)\n",
    "r2 = r2_score(y_test, test_pred)\n",
    "print(f\"\\nTest Results: MSE = {small_test_loss:.4f}, R2 = {r2:.4f}\")"
   ]
  },
  {
   "cell_type": "code",
   "execution_count": 53,
   "metadata": {},
   "outputs": [
    {
     "name": "stdout",
     "output_type": "stream",
     "text": [
      "Epoch 1/100 | Train Loss: 43385.9806 | Val Loss: 20491.3671\n",
      "Epoch 2/100 | Train Loss: 17309.6443 | Val Loss: 14447.6763\n",
      "Epoch 3/100 | Train Loss: 11197.4147 | Val Loss: 6353.1691\n",
      "Epoch 4/100 | Train Loss: 4887.9837 | Val Loss: 1409.1716\n",
      "Epoch 5/100 | Train Loss: 2284.7006 | Val Loss: 3487.7588\n",
      "Epoch 6/100 | Train Loss: 1741.8680 | Val Loss: 859.3637\n",
      "Epoch 7/100 | Train Loss: 1603.3121 | Val Loss: 797.5126\n",
      "Epoch 8/100 | Train Loss: 1731.1876 | Val Loss: 1288.9433\n",
      "Epoch 9/100 | Train Loss: 1486.0624 | Val Loss: 1779.9352\n",
      "Epoch 10/100 | Train Loss: 1492.3391 | Val Loss: 439.2965\n",
      "Epoch 11/100 | Train Loss: 1479.6787 | Val Loss: 995.7333\n",
      "Epoch 12/100 | Train Loss: 1455.6701 | Val Loss: 1468.3570\n",
      "Epoch 13/100 | Train Loss: 1439.7540 | Val Loss: 2090.3576\n",
      "Epoch 14/100 | Train Loss: 1398.1828 | Val Loss: 729.2147\n",
      "Learning rate reduced to 0.001\n",
      "Epoch 15/100 | Train Loss: 1418.8370 | Val Loss: 1059.7657\n",
      "Epoch 16/100 | Train Loss: 1345.5714 | Val Loss: 959.2675\n",
      "Epoch 17/100 | Train Loss: 1516.5698 | Val Loss: 145.2264\n",
      "Epoch 18/100 | Train Loss: 1426.3966 | Val Loss: 3275.8309\n",
      "Epoch 19/100 | Train Loss: 1340.4607 | Val Loss: 224.3217\n",
      "Epoch 20/100 | Train Loss: 1347.3387 | Val Loss: 1148.3415\n",
      "Epoch 21/100 | Train Loss: 1386.8520 | Val Loss: 980.6254\n",
      "Learning rate reduced to 0.0001\n",
      "Epoch 22/100 | Train Loss: 1391.1981 | Val Loss: 731.9796\n",
      "Epoch 23/100 | Train Loss: 1331.6099 | Val Loss: 1717.1455\n",
      "Epoch 24/100 | Train Loss: 1308.4223 | Val Loss: 1051.9344\n",
      "Epoch 25/100 | Train Loss: 1426.0256 | Val Loss: 898.2945\n",
      "Epoch 26/100 | Train Loss: 1337.5201 | Val Loss: 609.7915\n",
      "Learning rate reduced to 1e-05\n",
      "Early stopping at epoch 27\n"
     ]
    },
    {
     "data": {
      "image/png": "[encoded data removed]",
      "text/plain": [
       "<Figure size 1000x500 with 1 Axes>"
      ]
     },
     "metadata": {},
     "output_type": "display_data"
    },
    {
     "name": "stdout",
     "output_type": "stream",
     "text": [
      "\n",
      "Test Results: MSE = 875.7790, R2 = 0.9897\n"
     ]
    }
   ],
   "source": [
    "medium_model = Sequential()\n",
    "medium_model.add(Linear(n_features, 256))\n",
    "medium_model.add(BatchNormalization())\n",
    "medium_model.add(LeakyReLU(slope=0.1))\n",
    "medium_model.add(Dropout(p=0.3))\n",
    "medium_model.add(Linear(256, 128))\n",
    "medium_model.add(BatchNormalization())\n",
    "medium_model.add(ELU(alpha=1.0))\n",
    "medium_model.add(Linear(128, n_targets))\n",
    "\n",
    "train_losses, val_losses = train_model(\n",
    "    model=medium_model,\n",
    "    X_train=X_train,\n",
    "    y_train=y_train,\n",
    "    X_val=X_val,\n",
    "    y_val=y_val,\n",
    "    epochs=100,\n",
    "    lr=0.01\n",
    ")\n",
    "\n",
    "medium_model.evaluate()\n",
    "test_pred = medium_model.forward(X_test)\n",
    "medium_test_loss = MSECriterion().forward(test_pred, y_test)\n",
    "r2 = r2_score(y_test, test_pred)\n",
    "print(f\"\\nTest Results: MSE = {medium_test_loss:.4f}, R2 = {r2:.4f}\")"
   ]
  },
  {
   "cell_type": "code",
   "execution_count": 54,
   "metadata": {},
   "outputs": [
    {
     "name": "stdout",
     "output_type": "stream",
     "text": [
      "Epoch 1/100 | Train Loss: 51690.0577 | Val Loss: 33354.2960\n",
      "Epoch 2/100 | Train Loss: 23533.3169 | Val Loss: 25784.2547\n",
      "Epoch 3/100 | Train Loss: 18623.6694 | Val Loss: 16068.4320\n",
      "Epoch 4/100 | Train Loss: 17299.5747 | Val Loss: 16051.4259\n",
      "Epoch 5/100 | Train Loss: 15752.6083 | Val Loss: 12663.8005\n",
      "Epoch 6/100 | Train Loss: 12633.0836 | Val Loss: 10247.2982\n",
      "Epoch 7/100 | Train Loss: 8884.5685 | Val Loss: 6924.5994\n",
      "Epoch 8/100 | Train Loss: 7558.6288 | Val Loss: 7856.7106\n",
      "Epoch 9/100 | Train Loss: 7074.7585 | Val Loss: 6580.1124\n",
      "Epoch 10/100 | Train Loss: 6885.0477 | Val Loss: 5701.5122\n",
      "Epoch 11/100 | Train Loss: 6710.4847 | Val Loss: 4605.5750\n",
      "Epoch 12/100 | Train Loss: 5726.2442 | Val Loss: 3126.5853\n",
      "Epoch 13/100 | Train Loss: 4086.5225 | Val Loss: 2186.6437\n",
      "Epoch 14/100 | Train Loss: 3017.9173 | Val Loss: 636.4974\n",
      "Epoch 15/100 | Train Loss: 2776.1049 | Val Loss: 3302.7523\n",
      "Epoch 16/100 | Train Loss: 2901.8165 | Val Loss: 4443.3067\n",
      "Epoch 17/100 | Train Loss: 2699.6930 | Val Loss: 444.2076\n",
      "Epoch 18/100 | Train Loss: 2740.6814 | Val Loss: 1142.1211\n",
      "Epoch 19/100 | Train Loss: 2750.0101 | Val Loss: 3275.4343\n",
      "Epoch 20/100 | Train Loss: 2652.8547 | Val Loss: 748.9805\n",
      "Epoch 21/100 | Train Loss: 2781.7262 | Val Loss: 4940.6760\n",
      "Learning rate reduced to 0.001\n",
      "Epoch 22/100 | Train Loss: 2600.1953 | Val Loss: 2016.6610\n",
      "Epoch 23/100 | Train Loss: 2480.3344 | Val Loss: 590.7026\n",
      "Epoch 24/100 | Train Loss: 2550.7032 | Val Loss: 498.3048\n",
      "Epoch 25/100 | Train Loss: 2481.3037 | Val Loss: 1084.5857\n",
      "Epoch 26/100 | Train Loss: 2506.2068 | Val Loss: 1763.0334\n",
      "Learning rate reduced to 0.0001\n",
      "Early stopping at epoch 27\n"
     ]
    },
    {
     "data": {
      "image/png": "[encoded data removed]",
      "text/plain": [
       "<Figure size 1000x500 with 1 Axes>"
      ]
     },
     "metadata": {},
     "output_type": "display_data"
    },
    {
     "name": "stdout",
     "output_type": "stream",
     "text": [
      "\n",
      "Test Results: MSE = 705.6161, R2 = 0.9925\n"
     ]
    }
   ],
   "source": [
    "large_model = Sequential()\n",
    "large_model.add(Linear(n_features, 512))\n",
    "large_model.add(BatchNormalization())\n",
    "large_model.add(Gelu())\n",
    "large_model.add(Dropout(p=0.4))\n",
    "large_model.add(Linear(512, 256))\n",
    "large_model.add(BatchNormalization())\n",
    "large_model.add(SoftPlus())\n",
    "large_model.add(Dropout(p=0.4))\n",
    "large_model.add(Linear(256, 128))\n",
    "large_model.add(BatchNormalization())\n",
    "large_model.add(ReLU())\n",
    "large_model.add(Linear(128, n_targets))\n",
    "\n",
    "train_losses, val_losses = train_model(\n",
    "    model=large_model,\n",
    "    X_train=X_train,\n",
    "    y_train=y_train,\n",
    "    X_val=X_val,\n",
    "    y_val=y_val,\n",
    "    epochs=100,\n",
    "    lr=0.01\n",
    ")\n",
    "\n",
    "large_model.evaluate()\n",
    "test_pred = large_model.forward(X_test)\n",
    "large_test_loss = MSECriterion().forward(test_pred, y_test)\n",
    "r2 = r2_score(y_test, test_pred)\n",
    "print(f\"\\nTest Results: MSE = {large_test_loss:.4f}, R2 = {r2:.4f}\")"
   ]
  },
  {
   "cell_type": "code",
   "execution_count": 55,
   "metadata": {},
   "outputs": [
    {
     "name": "stdout",
     "output_type": "stream",
     "text": [
      "Лучшая модель: large model MSE: 705.6161050219952\n"
     ]
    }
   ],
   "source": [
    "variables = {'small model': small_test_loss, 'medium model': medium_test_loss, 'large model': large_test_loss}\n",
    "best_model = min(variables, key=variables.get)\n",
    "min_mse = variables[best_model]\n",
    "\n",
    "print(\"Лучшая модель:\", best_model, \"MSE:\", min_mse)"
   ]
  },
  {
   "cell_type": "code",
   "execution_count": null,
   "metadata": {},
   "outputs": [],
   "source": []
  }
 ],
 "metadata": {
  "colab": {
   "provenance": []
  },
  "kernelspec": {
   "display_name": "Python 3 (ipykernel)",
   "language": "python",
   "name": "python3"
  },
  "language_info": {
   "codemirror_mode": {
    "name": "ipython",
    "version": 3
   },
   "file_extension": ".py",
   "mimetype": "text/x-python",
   "name": "python",
   "nbconvert_exporter": "python",
   "pygments_lexer": "ipython3",
   "version": "3.11.7"
  }
 },
 "nbformat": 4,
 "nbformat_minor": 4
}
